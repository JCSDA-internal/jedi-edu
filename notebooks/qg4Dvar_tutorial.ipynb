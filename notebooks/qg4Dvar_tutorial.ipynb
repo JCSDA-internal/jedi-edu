{
 "cells": [
  {
   "cell_type": "markdown",
   "id": "a11cd295-4801-492a-8d93-d91667223830",
   "metadata": {
    "tags": []
   },
   "source": [
    "# Welcome to the 4DVar tutorial\n",
    "***"
   ]
  },
  {
   "cell_type": "markdown",
   "id": "d37403e8-e2e2-4fdc-a4fd-0fbbdbcc2731",
   "metadata": {},
   "source": [
    "In this tutorial we will explore the basic features of 4DVar, using the quasi-geostrophic model. **It is recommended that you run the 3DVar tutorial first**. The model mimics the evolution of large-scale features, such as high and low pressure cells in the atmosphere. In the following we first provide a short description of the 4DVar problem and of the quasi-geostrophic model and what it represents, followed by the data-assimilation experiments."
   ]
  },
  {
   "attachments": {},
   "cell_type": "markdown",
   "id": "f720f3a7-382b-41ce-8e73-052faa978f4d",
   "metadata": {
    "tags": []
   },
   "source": [
    "## Introduction to 4DVar\n",
    "\n",
    "*For those familiar with the 4DVar data-assimilation method this section can be skipped.* <br>\n",
    "Strong constraint 4DVar is a data-assimilation method that solves the data-assimilation problem at a given point in time, but using observations gathered over a time window. (Another, similar, method is Weak-constraint 4DVar that updates the state over the whole time window by also estimating errors in the model equations, which will be discussed in another tutorial.) The basic idea is that we have a first guess of the atmospheric state from a model forecast $x_b$, and want to update this state with a set of observations $y$ obtained over a time window $[0,T]$. These observations are from the evolution of the unknown true atmospheric state over this time window, and the measurement process is described by \n",
    "<br><br>\n",
    "<center>$y = H(x_{true}) + \\epsilon_{true}$ </center> \n",
    "<br>\n",
    "in which $H(..)$ is the so-called observation operator that maps a state $x$ {\\em(?) at the beginning of the time window} to observation space. Observation space in this case contains observations valid over the whole time window. This means that to compare the model state with the observations $H$ has to first bring the model state to the observation time, and then extract from the state at that time the corresponding modelled observation. {\\em(?) This means that $H$ now contains the model operator.} The $\\epsilon_{true}$ is the observation error. This error is due to the measurement process itself: every measurement will have an error related to the precision of the measurement. There is also another part to this error, called the representation error, that we will not discuss here as it is not essential for understanding 4DVar. <br><br>\n",
    "The 4DVar tries to find the state that is both close to our first guess $x_b$ at the start of the window and when modeled forward in time is close to the observations $y$. As in 3DVar we can set up a cost function as\n",
    "<br><br>\n",
    "<center>$J(x) = (x-x_b)^TB^{-1}(x-x_b) + \\left(y-H(x)\\right)^T R^{-1}\\left(y-H(x)\\right)$ </center> <br>\n",
    "The deviation of $x$ from $x_b$ is weighted by the first-guess error covariance $B$, and deviation of the forecast of $x$ to the observation times and the actual observations $y$ is weighted by the observation error covariance. The gradient of the cost function is given by \n",
    "<br><br>\n",
    "<center>$\\frac{d J(x)}{dx} = 2B^{-1}(x-x_b) - 2H^T R^{-1}\\left(y-H(x)\\right)$ </center> \n",
    "<br>\n",
    "Note the similarity with the 3DVar gradient. The only difference is that $H$ now contains the model operator. \n",
    "\n",
    "When $H$ is linear we can write down the solution, putting the gradient to zero and gathering all term with $x$ on one side, as:\n",
    "<br><br>\n",
    "<center>$x_a = x_b + \\left(B^{-1}+H^TR^{-1}H \\right)^{-1}H^T R^{-1}(y-Hx_b)$ </center> \n",
    "<br>\n",
    "Again the same expression as for 3DVar, but with $H$ containing the model equations. We can understand this equation by reading it from right to left. First, we calculate the innovation at observation time (remember that $H$ contains the model to bring $x_b$ to the observation times). This innovation is scaled by $R^{-1}$ and then multiplied by $H^T$. This operator is the transpose of $H$, which means instead of moving forward in time with the model, we move backward in time, all the way to the beginning of the time window. There we scale again, this time using both $B$, which is valid at the beginning of the window, and $H^TR^{-1}H$. This latter matrix is the observation error covariance, which is valid at observation times, transported to the beginning of the time window via $H^T$ (and its transpose on the other side of $R$). This is the process by which observation information is carried from the observation time to the beginning of the time window.<br>\n",
    "\n",
    "When $H(..)$ is nonlinear we cannot write down an explicit solution, and instead have to use iterative methods to solve this problem. The standard method to do this in Strong-constraint 4DVar is via Gauss-Newton iteration. The Gauss-Newton iteration is an approximation to the Newton iteration method in which the term in the Hessian that contains the second order derivative of $H$ is neglected. We will not go into details here, but the point is that we can write the solution to the full non-quadratic cost function as a sequence of solutions of a set of quadratic cost functions. This is called {\\em(?) incremental 4DVar}. The quadratic cost function at iteration $i$ looks like\n",
    "<br><br>\n",
    "<center>$J(\\delta x) = (\\delta-\\xi^{(i)}) x^TB^{-1}(\\delta-\\xi^{(i)}) + \\left(H\\delta x - d\\right)^T R^{-1}\\left(H\\delta x - d\\right)$ </center> <br>\n",
    "in which $\\delta x = x - x^{(i)}$, where $x^{(i)}$ is the vector $\\xi^{(i)}=x_b-x^{(i)}$ and $H$ is now the linearized observation operator, linearized along the nonlinear trajectory of the model from starting point $x_b^{(i)}$. The observation is transformed to $d=y-H(x^{(i)})$.<br>\n",
    "\n",
    "Each of these incremental cost functions have the same form as when $H$, so the model and the mapping to observation space at observation time, is linear(?). Hence, we can write for the solution:\n",
    "<br><br>\n",
    "<center>$\\delta x = \\xi^{(i)}  + \\left(B^{-1}+H^TR^{-1}H \\right)^{-1}H^T R^{-1}(d - Hx^{(i)})$ </center> \n",
    "<br>\n",
    "Although the solution looks nice, it is actually troublesome because of the $H^T$ operator. As mentioned, it contains the model, but linearized, and transposed. The transpose is easy when $H$ is a matrix, but we don't have it as a matrix (it would be too large to store). Instead, we have it as a linear operator working on a vector. The transpose of an operator is called the adjoint operator, and it involves the adjoint of the linearized model equations. To make progress, we introduce the linearized model equation\n",
    "<br><br>\n",
    "<center>$\\delta x_{t+1} = M_{t} \\delta x_t$ </center> \n",
    "<br>\n",
    "\n",
    "The problem is typically solved using Lagrange multipliers to ensure that these model equations are fulfilled when solving the incremental 4DVar cost function. This is a standard trick in variational calculus. To this end we modify this cost function to\n",
    "<br><br>\n",
    "<center>$J(\\delta x, \\lambda) = (\\delta x_0-\\xi^{(i)}) x^TB^{-1}(\\delta x_0-\\xi^{(i)}) + \\sum_{t=1}^T  \\left(H_t\\delta x_t - d_t\\right)^T R^{-1}\\left(H_t\\delta x_t - d_t\\right) + \\sum_{t=1}^T \\lambda_t (\\delta x_{t} - M_{t-1} \\delta x_{t-1})$ </center> \n",
    "<br>\n",
    "in which we introduced the time index, and also defined $H_t$ as the mapping from model space to observation space at time $t$. If we now set the derivative of $J$ to all $\\delta x_t$ and all $\\lambda_t$ equal to zero we obtain the so-called Euler-Lagrange equations\n",
    "<br><br>\n",
    "<center>\n",
    "\\begin{align}\n",
    " \\delta x_0 &= \\xi^{(i)} + B \\lambda_0 \\\\\n",
    " \\delta x_{t+1} &= M_t^{(i)} \\delta x_t  \\\\\n",
    " \\lambda_{T+1}   &= 0          \\\\\n",
    "\\lambda_t &= M_t^T \\lambda_{t+1} + H_t^T R^{-1}(H_t \\delta x_t - d_t)\n",
    "\\end{align}\n",
    " </center> \n",
    "<br>\n",
    "The way we solve this set of equations is as follows. First, we set all $\\lambda_i=0$ and use the first two equations to run the first guess from the start to the end of the time window. Then we use the last two equations to integrate the adjoint variable $\\lambda_i$ from the end of the time window back to the beginning of the time window. These backward-in-time equations are also called the {\\bf(?) adjoint equations}. This is because they contain $M_t^T$, which is the adjoint of the tangent-linear forward model $M_t$ at each time $t$. These adjoint equations have a forcing term at each time $t$ that is equal to the innovation at that time $t$. This is the mechanism with which observation information is brought back to the beginning of the window. \n",
    "\n",
    "Typically, because the system is high dimensional a preconditioning step is applied, in which the problem is transformed into a problem which is smoother than the original problem. In JEDI the standard preconditioning is with the prior error covariance matrix $B$, the same as for the 3DVar, but many other possibilities, including random preconditioning, are becoming popular.\n",
    "\n",
    "With this we are at the end of this short introduction of 4DVar. Next, we very briefly describe the quasi-geostrophic model, before we dive into the experiments with JEDI."
   ]
  },
  {
   "cell_type": "code",
   "execution_count": null,
   "id": "25ad0c50",
   "metadata": {
    "vscode": {
     "languageId": "plaintext"
    }
   },
   "outputs": [],
   "source": []
  },
  {
   "cell_type": "markdown",
   "id": "704e6e6b",
   "metadata": {},
   "source": []
  },
  {
   "cell_type": "markdown",
   "id": "a1ede567",
   "metadata": {},
   "source": []
  },
  {
   "cell_type": "markdown",
   "id": "bfe50108-12be-4b8d-a074-4b772ee7bd83",
   "metadata": {
    "tags": []
   },
   "source": [
    "## The Quasi-geostrophic model\n",
    "\n",
    "This section provides a short description of the quasi-geostrophic model used in the experiments below. The model evolves the potential vorticity over time, with a velocity field derived from the stream function. In turn, the stream function field is calculated from the potential vorticity. Mathematically, the model has two layers and for each layer the model equations are <br>\n",
    "<center>$\\frac{D q_i}{dt} = 0$ </center> <br>\n",
    "where the $q_i$ denote the quasi-geostrophic potential vorticity in vertical layer $i$. The equation expresses that potential vorticity is conserved following air parcels. It is given by <br>\n",
    "<center>$q_i = \\nabla^2 \\psi_i + \\mathcal{F}_{i,i-1} (\\psi_{i-1} -\\psi_i) + \\mathcal{F}_{i,i+1}(\\psi_{i+1}-\\psi_i) + \\beta y$ </center> <br>\n",
    "This equation describes the three terms that build up potential vorticity, namely relative vorticity, which is the rotation of air parcels relative to the solid Earth, the layer thickness, represented by the $\\mathcal{F}$ terms, and the northward position of the air parcel y where $\\beta$ is the northward derivative of the Coriolis parameter. This parameter describes the daily rotation of the Earth around it axis. The actual expressions for the $\\mathcal{F}$ will not be given here, but, as you would expect, they contain the layer thicknesses and the potential temperatures of the layers. <br> <br>\n",
    "The conservation equation for potential vorticity describes the balance of changes in relative vorticity, in planetary vorticity, and in stretching of the fluid column. When one or more of these term changes the others have to compensate to conserve potential vorticity. <br> <br>\n",
    "The model represents a zonal strip around the Earth, so the fields are periodic in the East-West direction and we use free slip on the northern and southern boundaries (which means that the meridional velocities are zero along those boundaries, but the zonal velocities are free to vary). <br>"
   ]
  },
  {
   "cell_type": "markdown",
   "id": "8f12da43-fccd-4bca-852d-3302015d1f42",
   "metadata": {},
   "source": [
    "## 4DVar data-assimilation experiments\n",
    "\n",
    "To set up the data assimilation experiment and run 4DVar we take the following steps:\n",
    "\n",
    "1. We first generate the equivalent of a real atmospheric or oceanic, or other system. This run we call the truth, and in the following we will use the atmosphere as an example. We will use the truth generated in the 3dvar tutorial.\n",
    "2. We then generate the starting point for our data assimilation experiment. This starting point will be close to, but not the same as, the truth starting point. To be consistent, we perturb the truth state with a random draw from the initial state error distribution. In 4DVar this error distribution is again chosen Gaussian. In the real world this background state comes from a forecast, and contains all prior information we have. We will use the background generated in the 3dvar tutorial.\n",
    "3. Then we obtain observations from that truth run, just as observations are generated in the real world. That is, we take measurements of that truth run and then add an observation error to that measurement. This observation error is a random draw from the error distribution of the observations. In 4DVar the assumption is that observation errors are Gaussian distributed, and are distributed at different times in the assimilation window. We do all this to mimic what happens when we take real observations from the real atmosphere.\n",
    "4. The final step is to perform the data assimilation, i.e. to run the 4DVar.\n",
    "\n",
    "\n",
    "The following is a quick overview of where the files are. To do this, you can navigate the menu on your left or you can list the files under the different directories.<br><br><br>\n",
    "Now for using Jupyter Labs notebooks: you can click on any box that contains code (like the one below) and hit play, it will run the piece of code there!\n",
    "<br>\n",
    "<center> <img src=\"images/run_command.png\"/> </center>\n",
    "<br>\n",
    "<br>\n",
    "\n",
    "For convenience, you _need_ to export a few environment variables:"
   ]
  },
  {
   "cell_type": "code",
   "execution_count": null,
   "id": "82802d0a-174a-4b10-a95a-e42cbeaf3753",
   "metadata": {},
   "outputs": [],
   "source": [
    "export JEDI_BIN=/home/nonroot/build/bin\n",
    "export JEDI_EDU=/home/nonroot/shared/EDU"
   ]
  },
  {
   "cell_type": "markdown",
   "id": "6fa7e1e9-b4be-4056-a236-665b698baf0f",
   "metadata": {
    "jp-MarkdownHeadingCollapsed": true,
    "tags": []
   },
   "source": [
    "## Overview of the experiments\n",
    "\n",
    "In the following you will conduct several experiments. Most will be experiments in which you will assimilate one observation. This will allow you to better understand the JEDI system, but you will especially appreciate how 4DVar works and how the position of the observation in the assimilation window is important. We will start with experiments with one observation at the beginning, middle or end of the window:\n",
    "\n",
    "| Description | Background yaml file   | Observation yaml file | Data assimilation file |\n",
    "| --- | --- | --- | --- |\n",
    "| exp_begin | genenspert_B_default.yaml | makeobs4d_oneobs_begin.yaml | 4dvar_oneobs_begin.yaml\n",
    "| exp_mid | genenspert_B_default.yaml | makeobs4d_oneobs_mid.yaml | 4dvar_oneobs_mid.yaml\n",
    "| exp_end | genenspert_B_default.yaml | makeobs4d_oneobs_end.yaml | 4dvar_oneobs_end.yaml\n",
    "| exp_mult_obs | genenspert_B_default.yaml | makeobs4d_mult_obs.yaml | 4dvar_mult_obs.yaml\n",
    "\n",
    "\n",
    "Our last experiment with 4DVar will be a more realistic case with 100 randomly positioned observations."
   ]
  },
  {
   "cell_type": "markdown",
   "id": "f0e669c7-5593-4a08-b100-ca3deee90f74",
   "metadata": {
    "tags": []
   },
   "source": [
    "# Experiment 1: 4dvar with one observation at the beginning of the window\n",
    "***"
   ]
  },
  {
   "cell_type": "markdown",
   "id": "e54111af-a8da-4d3a-aaa6-d59ba321f0e8",
   "metadata": {
    "tags": []
   },
   "source": [
    "### Step 1: Generate the truth"
   ]
  },
  {
   "cell_type": "markdown",
   "id": "d86a5d16-044f-40e8-901c-cda520bfc451",
   "metadata": {},
   "source": [
    "The truth is the same as in the 3dvar, there is no need to generate it again!"
   ]
  },
  {
   "cell_type": "code",
   "execution_count": null,
   "id": "73aaaf06-6df1-4799-b123-a7aa2faeb7ca",
   "metadata": {},
   "outputs": [],
   "source": [
    "cp -r $JEDI_EDU/qg3Dvar/output/truth/ $JEDI_EDU/qg4Dvar/output"
   ]
  },
  {
   "cell_type": "markdown",
   "id": "f9c16797-f4bb-4fdd-89ea-e958caa53f95",
   "metadata": {
    "tags": []
   },
   "source": [
    "### Step 2: Generate the background state"
   ]
  },
  {
   "cell_type": "markdown",
   "id": "f606a41b-1e8f-41ce-b3b3-cc49e75586ee",
   "metadata": {},
   "source": [
    "We are using the same backgrounds as in the 3dvar run, but we will use a background 24hrs earlier (because the 4dvar window is 24hrs long). This will allow us to compare results between the 3dvar and 4dvar runs: the analyses will be valid at the same time."
   ]
  },
  {
   "cell_type": "code",
   "execution_count": null,
   "id": "65ca41b6-f4ed-46e3-a0c0-a45f965cbbc1",
   "metadata": {},
   "outputs": [],
   "source": [
    "cp -r $JEDI_EDU/qg3Dvar/output/exp_default/bg $JEDI_EDU/qg4Dvar/output/exp_begin/"
   ]
  },
  {
   "cell_type": "markdown",
   "id": "efa8a72f-ae75-4082-85eb-2ed3860c418a",
   "metadata": {},
   "source": [
    "We can create plots for the background error and look at the error for the stream function:"
   ]
  },
  {
   "cell_type": "code",
   "execution_count": null,
   "id": "4611bd63-97f0-47e5-a063-1251fe38b792",
   "metadata": {},
   "outputs": [],
   "source": [
    "cd $JEDI_EDU/plots_scripts\n",
    "python ./plot.py qg fields \\\n",
    "        $JEDI_EDU/qg4Dvar/output/exp_begin/bg/bkgd.fc.2009-12-30T00\\:00\\:00Z.PT0S.nc \\\n",
    "        $JEDI_EDU/qg4Dvar/output/truth/truth.fc.2009-12-15T00\\:00\\:00Z.P15D.nc \\\n",
    "        --output $JEDI_EDU/qg4Dvar/output/exp_begin/plots/bkgd_error --title \"Background error - beginning of window\"\n",
    "display < $JEDI_EDU/qg4Dvar/output/exp_begin/plots/bkgd_error_x_diff.jpg"
   ]
  },
  {
   "cell_type": "markdown",
   "id": "315e993a-bf6d-4b90-8c6b-6aef4a990471",
   "metadata": {
    "tags": []
   },
   "source": [
    "### Step 3: Generate observations"
   ]
  },
  {
   "cell_type": "markdown",
   "id": "46b58cec-754c-4ecc-9104-036f105c343b",
   "metadata": {},
   "source": [
    "Our assimilation window is from 2009-12-30T00:00:00 to 2009-12-31T00:00:00, and we will generate an observation just one hour after the beginning of the window.\n",
    "\n",
    "Look at the following yaml code:\n",
    "```yaml\n",
    "geometry:\n",
    "  nx: 40\n",
    "  ny: 20\n",
    "  depths: [4000.0, 6000.0]\n",
    "initial condition:\n",
    "  date: 2009-12-30T00:00:00Z\n",
    "  filename: qg4Dvar/output/truth/truth.fc.2009-12-15T00:00:00Z.P15D.nc\n",
    "model:\n",
    "  name: QG\n",
    "  tstep: PT6H\n",
    "forecast length: PT24H\n",
    "window begin: 2009-12-30T00:00:00Z\n",
    "window length: PT24H\n",
    "observations:\n",
    "  observers:\n",
    "  - obs operator:\n",
    "      obs type: Stream              # The observation type is the stream function\n",
    "    obs space:\n",
    "      obsdataout:\n",
    "        engine:\n",
    "          obsfile: qg4Dvar/output/exp_begin/obs/truth.1obs.begin.nc\n",
    "      obs type: Stream\n",
    "      generate:\n",
    "        begin: PT1H                 # The observation is generated one hour after the beginning of the window\n",
    "        nval: 1\n",
    "        obs locations:\n",
    "          lon: [25]                 # List of longitudes for generated observations (only one here)\n",
    "          lat: [50]                 # List of latitudes for generated observations (only one here)\n",
    "          z: [7000.0]               # List of heights for generated observations (only one here)\n",
    "        obs error: 4.0e6            # Observation error standard deviation, in m^2/s\n",
    "        obs period: PT24H\n",
    "make obs: true                      # Generate the observations\n",
    "obs perturbations: true             # Add random  measurements to the observations\n",
    "```"
   ]
  },
  {
   "cell_type": "code",
   "execution_count": null,
   "id": "06d1c435-fc8f-4d4a-8df0-f7c14d1c6cae",
   "metadata": {},
   "outputs": [],
   "source": [
    "cd $JEDI_EDU\n",
    "$JEDI_BIN/qg_hofx.x ./qg4Dvar/yamls/makeobs4d_oneobs_begin.yaml"
   ]
  },
  {
   "cell_type": "markdown",
   "id": "18384949-e4e8-4acd-9d25-54be57995c3f",
   "metadata": {},
   "source": [
    "You can look into the observation file you just created and verify that there is only one location:"
   ]
  },
  {
   "cell_type": "code",
   "execution_count": null,
   "id": "eb3934b5-e5ff-4d30-b592-29117ae72d0c",
   "metadata": {},
   "outputs": [],
   "source": [
    "cd $JEDI_EDU/plots_scripts\n",
    "python ./plot.py qg obs $JEDI_EDU/qg4Dvar/output/exp_begin/obs/truth.1obs.begin.nc \\\n",
    "        --output $JEDI_EDU/qg4Dvar/output/exp_begin/plots/qg_oneobs_begin\n",
    "cat $JEDI_EDU/qg4Dvar/output/exp_begin/plots/qg_oneobs_begin.txt"
   ]
  },
  {
   "cell_type": "markdown",
   "id": "5d8c6585-807a-4c42-9440-d0cb68ad886f",
   "metadata": {
    "tags": []
   },
   "source": [
    "### Step 4: Run the 4DVar!"
   ]
  },
  {
   "cell_type": "markdown",
   "id": "1f20779b-4d1d-4a46-9578-99057ac32796",
   "metadata": {},
   "source": [
    "Observe the contents of the 4dvar yaml file. You will find many items are similar to the 3dvar yaml file you just worked with:\n",
    "\n",
    "```yaml\n",
    "cost function:\n",
    "  cost type: 4D-Var                        # The cost function used is now 4d-var\n",
    "  window begin: 2009-12-30T00:00:00Z       # The beginning of the window is on the 30th at midnight\n",
    "  window length: PT24H                     # The window is 24 hours long\n",
    "  analysis variables: [x]\n",
    "  background:\n",
    "    date: 2009-12-30T00:00:00Z\n",
    "    filename: qg4Dvar/output/exp_begin/bg/bkgd.fc.2009-12-30T00:00:00Z.PT0S.nc\n",
    "  background error:\n",
    "    covariance model: QgError\n",
    "    horizontal_length_scale: 2.2e6\n",
    "    maximum_condition_number: 1.0e6\n",
    "    standard_deviation: 1.8e7\n",
    "    vertical_length_scale: 15000.0\n",
    "  observations:\n",
    "    observers:\n",
    "    - obs operator:\n",
    "        obs type: Stream\n",
    "      obs space:\n",
    "        obsdatain:\n",
    "          engine:\n",
    "            obsfile: qg4Dvar/output/exp_begin/obs/truth.1obs.begin.nc\n",
    "        obsdataout:\n",
    "          engine:\n",
    "            obsfile: qg4Dvar/output/exp_begin/obs/4dvar.1obs.begin.nc\n",
    "        obs type: Stream\n",
    "      obs error:\n",
    "        covariance model: diagonal\n",
    "  geometry:\n",
    "    nx: 40\n",
    "    ny: 20\n",
    "    depths: [4500.0, 5500.0]\n",
    "  model:                                   # We need to specify the model that will be run\n",
    "    name: QG\n",
    "    tstep: PT1H\n",
    "variational:\n",
    "  minimizer:\n",
    "    algorithm: DRPLanczos\n",
    "  iterations:\n",
    "  - ninner: 10\n",
    "    gradient norm reduction: 1.0e-10\n",
    "    geometry:\n",
    "      nx: 40\n",
    "      ny: 20\n",
    "      depths: [4500.0, 5500.0]\n",
    "    linear model:\n",
    "      name: QgTLM\n",
    "      trajectory:\n",
    "        tstep: PT1H\n",
    "      tstep: PT1H\n",
    "      variable change: Identity\n",
    "    diagnostics:\n",
    "      departures: ombg\n",
    "    test: on\n",
    "  - ninner: 10\n",
    "    gradient norm reduction: 1.0e-10\n",
    "    geometry:\n",
    "      nx: 40\n",
    "      ny: 20\n",
    "      depths: [4500.0, 5500.0]\n",
    "    linear model:\n",
    "      name: QgTLM\n",
    "      trajectory:\n",
    "        tstep: PT1H\n",
    "      tstep: PT1H\n",
    "      variable change: Identity\n",
    "    diagnostics:\n",
    "      departures: ombg\n",
    "    test: on\n",
    "final:\n",
    "  diagnostics:\n",
    "    departures: oman\n",
    "  prints:\n",
    "    frequency: PT1H\n",
    "output:\n",
    "  datadir: qg4Dvar/output/exp_begin/da/\n",
    "  exp: 4dvar.1obs.begin\n",
    "  first: PT0S\n",
    "  frequency: PT6H\n",
    "  type: an\n",
    "```"
   ]
  },
  {
   "cell_type": "code",
   "execution_count": null,
   "id": "0aa50d35-1ee5-450f-bca6-349f3bf2dda0",
   "metadata": {},
   "outputs": [],
   "source": [
    "cd $JEDI_EDU\n",
    "$JEDI_BIN/qg_4dvar.x ./qg4Dvar/yamls/4dvar_oneobs_begin.yaml"
   ]
  },
  {
   "cell_type": "markdown",
   "id": "731b4f69-a779-4c48-95be-58106f7bf408",
   "metadata": {},
   "source": [
    "**You can now look at the results.**<br>\n",
    "Let's plot the increment at the beginning of the window:"
   ]
  },
  {
   "cell_type": "code",
   "execution_count": null,
   "id": "6ad5da84-55fc-4646-975b-eb062f7fa712",
   "metadata": {},
   "outputs": [],
   "source": [
    "cd $JEDI_EDU/plots_scripts\n",
    "python ./plot.py qg fields \\\n",
    "        $JEDI_EDU/qg4Dvar/output/exp_begin/da/4dvar.1obs.begin.an.2009-12-30T00\\:00\\:00Z.nc \\\n",
    "        $JEDI_EDU/qg4Dvar/output/exp_begin/bg/bkgd.fc.2009-12-30T00:00:00Z.PT0S.nc \\\n",
    "        --plotObsLocations $JEDI_EDU/qg4Dvar/output/exp_begin/obs/4dvar.1obs.begin.nc \\\n",
    "        --plotwind \\\n",
    "        --output $JEDI_EDU/qg4Dvar/output/exp_begin/plots/4dvar_inc_begin --title \"Increment 00H: obs at beginning of window\"\n",
    "        display < $JEDI_EDU/qg4Dvar/output/exp_begin/plots/4dvar_inc_begin_x_diff.jpg"
   ]
  },
  {
   "cell_type": "markdown",
   "id": "214344ad-2a5c-451f-b308-b69528e061f7",
   "metadata": {},
   "source": [
    "In order to verify that the analysis is closer to the truth than the background was, we can also plot `Background - Truth`<br> (= __background error__) and compare it to `Analysis - truth` :"
   ]
  },
  {
   "cell_type": "code",
   "execution_count": null,
   "id": "ae25b0f8-0630-4d0a-9436-db83a2bf34dc",
   "metadata": {},
   "outputs": [],
   "source": [
    "python ./plot.py qg fields \\\n",
    "        $JEDI_EDU/qg4Dvar/output/exp_begin/bg/bkgd.fc.2009-12-30T00:00:00Z.PT0S.nc \\\n",
    "        $JEDI_EDU/qg4Dvar/output/truth/truth.fc.2009-12-15T00\\:00\\:00Z.P15D.nc \\\n",
    "        --plotObsLocations $JEDI_EDU/qg4Dvar/output/exp_begin/obs/4dvar.1obs.begin.nc \\\n",
    "        --plotwind \\\n",
    "        --output $JEDI_EDU/qg4Dvar/output/exp_begin/plots/4dvar_bg_truth --title \"Bg - truth 00H\"\n",
    "        display < $JEDI_EDU/qg4Dvar/output/exp_begin/plots/4dvar_bg_truth_x_diff.jpg"
   ]
  },
  {
   "cell_type": "code",
   "execution_count": null,
   "id": "0d4ed2f3-32bf-4876-9a00-3ce176119014",
   "metadata": {},
   "outputs": [],
   "source": [
    "python ./plot.py qg fields \\\n",
    "        $JEDI_EDU/qg4Dvar/output/exp_begin/da/4dvar.1obs.begin.an.2009-12-30T00\\:00\\:00Z.nc \\\n",
    "        $JEDI_EDU/qg4Dvar/output/truth/truth.fc.2009-12-15T00\\:00\\:00Z.P15D.nc \\\n",
    "        --plotObsLocations $JEDI_EDU/qg4Dvar/output/exp_begin/obs/4dvar.1obs.begin.nc \\\n",
    "        --plotwind \\\n",
    "        --output $JEDI_EDU/qg4Dvar/output/exp_begin/plots/4dvar_an_truth --title \"Analysis - truth 00H\"\n",
    "        display < $JEDI_EDU/qg4Dvar/output/exp_begin/plots/4dvar_an_truth_x_diff.jpg"
   ]
  },
  {
   "cell_type": "markdown",
   "id": "95aeba71-e709-4960-a0bc-e90487f29dc4",
   "metadata": {},
   "source": [
    "What do you observe? Can you see the impact of the observation?<br><br>\n",
    "One more metric we can look at is the __forecast error__ (forecasted background - truth) and __analysis error__ (forecasted analysis - truth) at the end of the window. \n",
    "To ensure the are plotted with the same scaling, we add an argument `fieldmax` to the script."
   ]
  },
  {
   "cell_type": "code",
   "execution_count": null,
   "id": "79d77f74-9874-4058-bddf-349c89c2c21c",
   "metadata": {},
   "outputs": [],
   "source": [
    "cd $JEDI_EDU/plots_scripts\n",
    "python ./plot.py qg fields \\\n",
    "        $JEDI_EDU/qg4Dvar/output/exp_begin/bg/bkgd.fc.2009-12-30T00:00:00Z.P1D.nc \\\n",
    "        $JEDI_EDU/qg4Dvar/output/truth/truth.fc.2009-12-15T00\\:00\\:00Z.P16D.nc \\\n",
    "        --fieldmax 112662784 \\\n",
    "        --output $JEDI_EDU/qg4Dvar/output/exp_begin/plots/4dvar_fc_end --title \"Forecast error - end of window\"\n",
    "display < $JEDI_EDU/qg4Dvar/output/exp_begin/plots/4dvar_fc_end_x_diff.jpg"
   ]
  },
  {
   "cell_type": "code",
   "execution_count": null,
   "id": "79b7f5aa-fc7c-45bd-9564-c0901aea9978",
   "metadata": {},
   "outputs": [],
   "source": [
    "python ./plot.py qg fields \\\n",
    "        $JEDI_EDU/qg4Dvar/output/exp_begin/da/4dvar.1obs.begin.an.2009-12-31T00\\:00\\:00Z.nc \\\n",
    "        $JEDI_EDU/qg4Dvar/output/truth/truth.fc.2009-12-15T00\\:00\\:00Z.P16D.nc \\\n",
    "        --fieldmax 112662784 \\\n",
    "        --output $JEDI_EDU/qg4Dvar/output/exp_begin/plots/4dvar_an_end --title \"Analysis error - end of window\"\n",
    "display < $JEDI_EDU/qg4Dvar/output/exp_begin/plots/4dvar_an_end_x_diff.jpg"
   ]
  },
  {
   "cell_type": "markdown",
   "id": "1b60aebe-2887-4e40-a613-5a1d607c9255",
   "metadata": {
    "jp-MarkdownHeadingCollapsed": true,
    "tags": []
   },
   "source": [
    "# Experiment 2: 4dvar with one observation in the middle of the window\n",
    "***"
   ]
  },
  {
   "cell_type": "markdown",
   "id": "de8a756b-0b2e-477c-8533-1b7860e18219",
   "metadata": {
    "tags": []
   },
   "source": [
    "### Step 1: Generate the truth"
   ]
  },
  {
   "cell_type": "markdown",
   "id": "025d380a-ed6d-4dba-a8b5-5fc06ea647d6",
   "metadata": {},
   "source": [
    "The truth stays the same."
   ]
  },
  {
   "cell_type": "markdown",
   "id": "223d41f1-816f-4e94-816f-8cbb3b90c2ad",
   "metadata": {
    "jp-MarkdownHeadingCollapsed": true,
    "tags": []
   },
   "source": [
    "### Step 2: Generate the background state"
   ]
  },
  {
   "cell_type": "markdown",
   "id": "a61bd25e-5475-46d7-9a73-a03b72a61891",
   "metadata": {},
   "source": [
    "We can copy the backgrounds from the first experiment:"
   ]
  },
  {
   "cell_type": "code",
   "execution_count": null,
   "id": "0bcecdcd-95ab-43a3-acbb-60f4b64b78a4",
   "metadata": {},
   "outputs": [],
   "source": [
    "cp -r $JEDI_EDU/qg4Dvar/output/exp_begin/bg $JEDI_EDU/qg4Dvar/output/exp_mid/"
   ]
  },
  {
   "cell_type": "markdown",
   "id": "145af641-8007-43aa-8e6b-09ed3e90f989",
   "metadata": {
    "jp-MarkdownHeadingCollapsed": true,
    "tags": []
   },
   "source": [
    "### Step 3: Generate observations"
   ]
  },
  {
   "cell_type": "markdown",
   "id": "b93becd3-50b6-4197-8214-e6341f498e6b",
   "metadata": {},
   "source": [
    "We need to generate one observation in the middle of the window, we will re-use the same yaml file as the first experiment and modify it:"
   ]
  },
  {
   "cell_type": "code",
   "execution_count": null,
   "id": "f75fe0d6-9f43-419d-b168-8cea3fef2b3d",
   "metadata": {},
   "outputs": [],
   "source": [
    "cp $JEDI_EDU/qg4Dvar/yamls/makeobs4d_oneobs_begin.yaml $JEDI_EDU/qg4Dvar/yamls/makeobs4d_oneobs_mid.yaml"
   ]
  },
  {
   "cell_type": "markdown",
   "id": "bb8412f9-fc5c-43d3-b54b-3903d7100186",
   "metadata": {},
   "source": [
    "Open `makeobs4d_oneobs_mid.yaml` and do the following modifications:\n",
    "- all instances of `begin` become `mid`\n",
    "- `generate.begin` becomes PT12H so the observation is generated in the middle of the window.\n",
    "\n",
    "You can now generate the observations with:"
   ]
  },
  {
   "cell_type": "code",
   "execution_count": null,
   "id": "48c7b684-118c-46aa-85d2-e7be0fd390c0",
   "metadata": {},
   "outputs": [],
   "source": [
    "cd $JEDI_EDU\n",
    "$JEDI_BIN/qg_hofx.x ./qg4Dvar/yamls/makeobs4d_oneobs_mid.yaml"
   ]
  },
  {
   "cell_type": "markdown",
   "id": "63a5c11f-d55f-49d1-b29d-2d5997a478c7",
   "metadata": {
    "tags": []
   },
   "source": [
    "### Step 4: Run the 4DVar!"
   ]
  },
  {
   "cell_type": "markdown",
   "id": "29048c9d-c697-41ff-a57f-82c07e5d84f3",
   "metadata": {},
   "source": [
    "Copy and modify the 4dvar yaml file from experiment number one (you need to replace all instance of `begin` by `mid` in the filenames, output names, ... ). Careful not to change the yaml key `window begin` to `window mid`!"
   ]
  },
  {
   "cell_type": "code",
   "execution_count": null,
   "id": "605d1f24-18e3-42a8-ac9b-c5e46b68e471",
   "metadata": {},
   "outputs": [],
   "source": [
    "cp $JEDI_EDU/qg4Dvar/yamls/4dvar_oneobs_begin.yaml $JEDI_EDU/qg4Dvar/yamls/4dvar_oneobs_mid.yaml"
   ]
  },
  {
   "cell_type": "markdown",
   "id": "052990f8-a5ee-41bd-81aa-c3fd8ed37fd1",
   "metadata": {},
   "source": [
    "You can then run the 4dvar experiment:"
   ]
  },
  {
   "cell_type": "code",
   "execution_count": null,
   "id": "a39e7309-bd5a-4746-8914-ec2ebeb2c540",
   "metadata": {},
   "outputs": [],
   "source": [
    "cd $JEDI_EDU\n",
    "$JEDI_BIN/qg_4dvar.x ./qg4Dvar/yamls/4dvar_oneobs_mid.yaml"
   ]
  },
  {
   "cell_type": "markdown",
   "id": "40d48930-69a7-4492-bf0a-e2c4e6ccaa2c",
   "metadata": {},
   "source": [
    "When looking at the results, let's first look at the increment at the beginning of the window. Do you expect it to look similar to the one in experiment 1? Why or why not?"
   ]
  },
  {
   "cell_type": "code",
   "execution_count": null,
   "id": "8fee251a-81d2-4457-8d9e-755411d15d70",
   "metadata": {},
   "outputs": [],
   "source": [
    "cd $JEDI_EDU/plots_scripts\n",
    "python ./plot.py qg fields \\\n",
    "        $JEDI_EDU/qg4Dvar/output/exp_mid/da/4dvar.1obs.mid.an.2009-12-30T00\\:00\\:00Z.nc \\\n",
    "        $JEDI_EDU/qg4Dvar/output/exp_mid/bg/bkgd.fc.2009-12-30T00:00:00Z.PT0S.nc \\\n",
    "        --plotObsLocations $JEDI_EDU/qg4Dvar/output/exp_mid/obs/4dvar.1obs.mid.nc \\\n",
    "        --plotwind \\\n",
    "        --output $JEDI_EDU/qg4Dvar/output/exp_mid/plots/4dvar_inc_begin --title \"Increment 00H: obs at middle of window\"\n",
    "display < $JEDI_EDU/qg4Dvar/output/exp_mid/plots/4dvar_inc_begin_x_diff.jpg"
   ]
  },
  {
   "cell_type": "markdown",
   "id": "2612a7d9-58ba-4841-af8b-8355c9f9201c",
   "metadata": {},
   "source": [
    "The increment doesn't seem to *fit* the observation well: what explanation do you propose?\n",
    "Now plot the increment at the middle of the window:"
   ]
  },
  {
   "cell_type": "code",
   "execution_count": null,
   "id": "85256c60-322a-4eff-aa6a-0d1796326d98",
   "metadata": {},
   "outputs": [],
   "source": [
    "python ./plot.py qg fields \\\n",
    "        $JEDI_EDU/qg4Dvar/output/exp_mid/da/4dvar.1obs.mid.an.2009-12-30T12\\:00\\:00Z.nc \\\n",
    "        $JEDI_EDU/qg4Dvar/output/exp_mid/bg/bkgd.fc.2009-12-30T00:00:00Z.PT12H.nc \\\n",
    "        --plotObsLocations $JEDI_EDU/qg4Dvar/output/exp_mid/obs/4dvar.1obs.mid.nc \\\n",
    "        --plotwind \\\n",
    "        --output $JEDI_EDU/qg4Dvar/output/exp_mid/plots/4dvar_inc_mid --title \"Increment 12H: obs at middle of window\"\n",
    "display < $JEDI_EDU/qg4Dvar/output/exp_mid/plots/4dvar_inc_mid_x_diff.jpg"
   ]
  },
  {
   "cell_type": "markdown",
   "id": "de9bf332-5efc-4e20-8095-ea1e715d261e",
   "metadata": {},
   "source": [
    "The 4dvar offers an increment that fits the observation best in the *middle* of the window, when the observation is. We can also look at the increment towards the end of the window:"
   ]
  },
  {
   "cell_type": "code",
   "execution_count": null,
   "id": "124deed1-bec6-4d74-ad4f-a8b7cbeb469e",
   "metadata": {},
   "outputs": [],
   "source": [
    "python ./plot.py qg fields \\\n",
    "        $JEDI_EDU/qg4Dvar/output/exp_mid/da/4dvar.1obs.mid.an.2009-12-31T00\\:00\\:00Z.nc \\\n",
    "        $JEDI_EDU/qg4Dvar/output/exp_mid/bg/bkgd.fc.2009-12-30T00:00:00Z.P1D.nc \\\n",
    "        --plotObsLocations $JEDI_EDU/qg4Dvar/output/exp_mid/obs/4dvar.1obs.mid.nc \\\n",
    "        --plotwind \\\n",
    "        --output $JEDI_EDU/qg4Dvar/output/exp_mid/plots/4dvar_inc_end --title \"Increment 24H: obs at middle of window\"\n",
    "display < $JEDI_EDU/qg4Dvar/output/exp_mid/plots/4dvar_inc_end_x_diff.jpg\n"
   ]
  },
  {
   "cell_type": "markdown",
   "id": "b73d2eeb-d5d5-4543-a484-494cd9003c47",
   "metadata": {
    "jp-MarkdownHeadingCollapsed": true,
    "tags": []
   },
   "source": [
    "# Experiment 3: 4dvar with one observation at the end of the window\n",
    "***"
   ]
  },
  {
   "cell_type": "markdown",
   "id": "47e7faec-cf2c-4b49-b961-65f9d8b1a298",
   "metadata": {
    "tags": []
   },
   "source": [
    "### Step 1: Generate the truth"
   ]
  },
  {
   "cell_type": "markdown",
   "id": "9becb170-de38-4034-8971-c6a0aba8a65c",
   "metadata": {},
   "source": [
    "The truth stays the same"
   ]
  },
  {
   "cell_type": "markdown",
   "id": "da2bb702-c73e-4526-a6bd-1313f874ed52",
   "metadata": {
    "jp-MarkdownHeadingCollapsed": true,
    "tags": []
   },
   "source": [
    "### Step 2: Generate the background state"
   ]
  },
  {
   "cell_type": "markdown",
   "id": "8ef67203-1acd-4fb2-872f-35d575c80ee2",
   "metadata": {},
   "source": [
    "We can copy the backgrounds from the first experiment:"
   ]
  },
  {
   "cell_type": "code",
   "execution_count": null,
   "id": "4c34f6b6-f776-4c0a-87ad-ee309a81dbfa",
   "metadata": {},
   "outputs": [],
   "source": [
    "cp -r $JEDI_EDU/qg4Dvar/output/exp_begin/bg $JEDI_EDU/qg4Dvar/output/exp_end/"
   ]
  },
  {
   "cell_type": "markdown",
   "id": "d557711f-aa33-4f30-b8cf-f66b9e682b38",
   "metadata": {
    "jp-MarkdownHeadingCollapsed": true,
    "tags": []
   },
   "source": [
    "### Step 3: Generate the observations"
   ]
  },
  {
   "cell_type": "markdown",
   "id": "5157e7bd-84bc-4e49-ae4e-bfe77a6f5eac",
   "metadata": {},
   "source": [
    "We need to generate one observation in the middle of the window, we will re-use the same yaml file as the first experiment and modify it:"
   ]
  },
  {
   "cell_type": "code",
   "execution_count": null,
   "id": "de4b78fd-c524-46f9-91c0-372f2a3809fb",
   "metadata": {},
   "outputs": [],
   "source": [
    "cp $JEDI_EDU/qg4Dvar/yamls/makeobs4d_oneobs_begin.yaml $JEDI_EDU/qg4Dvar/yamls/makeobs4d_oneobs_end.yaml"
   ]
  },
  {
   "cell_type": "markdown",
   "id": "1f3cf770-3fd3-4e3c-91b9-c4bab0326bbe",
   "metadata": {},
   "source": [
    "Open `makeobs4d_oneobs_end.yaml` and do the following modifications:\n",
    "- all instances of `begin` become `end`\n",
    "- `generate.begin` becomes PT24H so the observation is generated at the end of the window.\n",
    "\n",
    "You can now generate the observations with:"
   ]
  },
  {
   "cell_type": "code",
   "execution_count": null,
   "id": "2c875fef-62af-481e-8982-3f1a32ca15bf",
   "metadata": {},
   "outputs": [],
   "source": [
    "cd $JEDI_EDU\n",
    "$JEDI_BIN/qg_hofx.x ./qg4Dvar/yamls/makeobs4d_oneobs_end.yaml"
   ]
  },
  {
   "cell_type": "markdown",
   "id": "ad4e2fe0-9d13-4595-be27-02970b1514fd",
   "metadata": {
    "tags": []
   },
   "source": [
    "### Step 4: Run the 4dvar!"
   ]
  },
  {
   "cell_type": "code",
   "execution_count": null,
   "id": "b26610ba-345e-4d4e-b534-5a31498624bc",
   "metadata": {},
   "outputs": [],
   "source": [
    "cp $JEDI_EDU/qg4Dvar/yamls/4dvar_oneobs_begin.yaml $JEDI_EDU/qg4Dvar/yamls/4dvar_oneobs_end.yaml"
   ]
  },
  {
   "cell_type": "markdown",
   "id": "43017488-a490-4436-a374-998460dc4087",
   "metadata": {},
   "source": [
    "Copy and modify the 4dvar yaml file from experiment number one just like you did in experiment 2, but this time to use `end` everywhere."
   ]
  },
  {
   "cell_type": "code",
   "execution_count": null,
   "id": "7d5dec58-70c6-4ee6-99a9-c57ab21cbf22",
   "metadata": {},
   "outputs": [],
   "source": [
    "cd $JEDI_EDU\n",
    "$JEDI_BIN/qg_4dvar.x ./qg4Dvar/yamls/4dvar_oneobs_end.yaml"
   ]
  },
  {
   "cell_type": "markdown",
   "id": "83df1333-ac05-4847-b2b8-2ffdec27275a",
   "metadata": {},
   "source": [
    "We can look at the increment at the beginning, middle and end of the window: when do you expect it will best *fit* the observation?"
   ]
  },
  {
   "cell_type": "code",
   "execution_count": null,
   "id": "950468c1-1938-41ea-81b0-64350b5a5e28",
   "metadata": {},
   "outputs": [],
   "source": [
    "cd $JEDI_EDU/plots_scripts\n",
    "python ./plot.py qg fields \\\n",
    "        $JEDI_EDU/qg4Dvar/output/exp_end/da/4dvar.1obs.end.an.2009-12-30T00\\:00\\:00Z.nc \\\n",
    "        $JEDI_EDU/qg4Dvar/output/exp_end/bg/bkgd.fc.2009-12-30T00:00:00Z.PT0S.nc \\\n",
    "        --plotObsLocations $JEDI_EDU/qg4Dvar/output/exp_end/obs/4dvar.1obs.end.nc \\\n",
    "        --plotwind \\\n",
    "        --output $JEDI_EDU/qg4Dvar/output/exp_end/plots/4dvar_inc_begin --title \"Increment 00H: obs at end of window\"\n",
    "        display < $JEDI_EDU/qg4Dvar/output/exp_end/plots/4dvar_inc_begin_x_diff.jpg"
   ]
  },
  {
   "cell_type": "code",
   "execution_count": null,
   "id": "bb57b8ec-cda6-4ef2-9c38-6e3f43c3e7b3",
   "metadata": {},
   "outputs": [],
   "source": [
    "python ./plot.py qg fields \\\n",
    "        $JEDI_EDU/qg4Dvar/output/exp_end/da/4dvar.1obs.end.an.2009-12-30T12\\:00\\:00Z.nc \\\n",
    "        $JEDI_EDU/qg4Dvar/output/exp_end/bg/bkgd.fc.2009-12-30T00:00:00Z.PT12H.nc \\\n",
    "        --plotObsLocations $JEDI_EDU/qg4Dvar/output/exp_end/obs/4dvar.1obs.end.nc \\\n",
    "        --plotwind \\\n",
    "        --output $JEDI_EDU/qg4Dvar/output/exp_end/plots/4dvar_inc_begin --title \"Increment 12H: obs at end of window\"\n",
    "        display < $JEDI_EDU/qg4Dvar/output/exp_end/plots/4dvar_inc_begin_x_diff.jpg"
   ]
  },
  {
   "cell_type": "code",
   "execution_count": null,
   "id": "27daa0a7-9817-4d1d-83cb-30dd44887aca",
   "metadata": {},
   "outputs": [],
   "source": [
    "python ./plot.py qg fields \\\n",
    "        $JEDI_EDU/qg4Dvar/output/exp_end/da/4dvar.1obs.end.an.2009-12-31T00\\:00\\:00Z.nc \\\n",
    "        $JEDI_EDU/qg4Dvar/output/exp_end/bg/bkgd.fc.2009-12-30T00:00:00Z.P1D.nc \\\n",
    "        --plotObsLocations $JEDI_EDU/qg4Dvar/output/exp_end/obs/4dvar.1obs.end.nc \\\n",
    "        --plotwind \\\n",
    "        --output $JEDI_EDU/qg4Dvar/output/exp_end/plots/4dvar_inc_end --title \"Increment 24H: obs at end of window\"\n",
    "        display < $JEDI_EDU/qg4Dvar/output/exp_end/plots/4dvar_inc_end_x_diff.jpg"
   ]
  },
  {
   "cell_type": "markdown",
   "id": "c9c95e53-4abb-45dd-b139-aabfbc0ca173",
   "metadata": {},
   "source": [
    "# Experiment 4: 4dvar with multiple observation scattered through the window\n",
    "***"
   ]
  },
  {
   "cell_type": "markdown",
   "id": "9714fd48-4a44-4dcd-9389-b72234a9d83e",
   "metadata": {},
   "source": [
    "### Step 1: Generate the truth"
   ]
  },
  {
   "cell_type": "markdown",
   "id": "a433ccfb-00d4-4b19-b698-30634ed4f3c9",
   "metadata": {},
   "source": [
    "The truth stays the same"
   ]
  },
  {
   "cell_type": "markdown",
   "id": "b09553a6-4e40-4bec-a7ee-32fa25b39d31",
   "metadata": {
    "jp-MarkdownHeadingCollapsed": true,
    "tags": []
   },
   "source": [
    "### Step 2: Generate the background state"
   ]
  },
  {
   "cell_type": "markdown",
   "id": "132a1fb5-37dc-4ac2-b904-36e465b0d1d3",
   "metadata": {},
   "source": [
    "We can copy the backgrounds from the first experiment:"
   ]
  },
  {
   "cell_type": "code",
   "execution_count": null,
   "id": "55f88470-634c-498a-9741-57ac4cd4d242",
   "metadata": {},
   "outputs": [],
   "source": [
    "cp -r $JEDI_EDU/qg4Dvar/output/exp_begin/bg $JEDI_EDU/qg4Dvar/output/exp_mult/"
   ]
  },
  {
   "cell_type": "markdown",
   "id": "6affbb2c-7b92-4291-8962-33c6053d98d5",
   "metadata": {
    "jp-MarkdownHeadingCollapsed": true,
    "tags": []
   },
   "source": [
    "### Step 3: Generate the observations"
   ]
  },
  {
   "cell_type": "markdown",
   "id": "a30ac4ab-74e6-4dd9-a484-a8dea48d2925",
   "metadata": {},
   "source": [
    "We now move to a more realistic case with observations every 3 hours at 50 random locations. The yaml file used for this experiment is `makeobs4d_mult_obs.yaml`:\n",
    "\n",
    "```yaml\n",
    "geometry:\n",
    "  nx: 40\n",
    "  ny: 20\n",
    "  depths: [4000.0, 6000.0]\n",
    "initial condition:\n",
    "  date: 2009-12-30T00:00:00Z\n",
    "  filename: qg4Dvar/output/truth/truth.fc.2009-12-15T00:00:00Z.P15D.nc\n",
    "model:\n",
    "  name: QG\n",
    "  tstep: PT3H\n",
    "forecast length: PT24H\n",
    "window begin: 2009-12-30T00:00:00Z\n",
    "window length: PT24H\n",
    "observations:\n",
    "  observers:\n",
    "  - obs operator:\n",
    "      obs type: Stream\n",
    "    obs space:\n",
    "      obsdataout:\n",
    "        engine:\n",
    "          obsfile: qg4Dvar/output/exp_mult/obs/truth.multobs.nc\n",
    "      obs type: Stream\n",
    "      generate:\n",
    "        begin: PT1H\n",
    "        nval: 1\n",
    "        obs density: 50\n",
    "        obs error: 4.0e6\n",
    "        obs period: PT3H\n",
    "make obs: true\n",
    "obs perturbations: true\n",
    "```"
   ]
  },
  {
   "cell_type": "code",
   "execution_count": null,
   "id": "032e7402-95fd-4b09-90c9-c9fa195fd2b7",
   "metadata": {},
   "outputs": [],
   "source": [
    "cd $JEDI_EDU\n",
    "$JEDI_BIN/qg_hofx.x ./qg4Dvar/yamls/makeobs4d_mult_obs.yaml"
   ]
  },
  {
   "cell_type": "markdown",
   "id": "0e645401-f81b-4c39-9f33-56d61510aa10",
   "metadata": {},
   "source": [
    "### Step 4: Run the 4dvar!"
   ]
  },
  {
   "cell_type": "markdown",
   "id": "934d9617-6385-4f46-98f5-2e7d7a3e7e1c",
   "metadata": {},
   "source": []
  },
  {
   "cell_type": "code",
   "execution_count": null,
   "id": "b39ad269-42d2-44f1-947f-5cfa3edefde8",
   "metadata": {},
   "outputs": [],
   "source": [
    "cd $JEDI_EDU\n",
    "$JEDI_BIN/qg_4dvar.x ./qg4Dvar/yamls/4dvar_mult_obs.yaml"
   ]
  },
  {
   "cell_type": "markdown",
   "id": "dd0f6639-70fd-4d97-90d7-3af371d1d09f",
   "metadata": {},
   "source": [
    "We can look at the increment throughout the window (we aren't plotting the observation locations for readability). "
   ]
  },
  {
   "cell_type": "code",
   "execution_count": null,
   "id": "6b5d31b0-f16f-43b5-8107-a0d6fb8fd0b5",
   "metadata": {},
   "outputs": [],
   "source": [
    "cd $JEDI_EDU/plots_scripts\n",
    "python ./plot.py qg fields \\\n",
    "        $JEDI_EDU/qg4Dvar/output/exp_mult/da/4dvar.multobs.an.2009-12-30T00\\:00\\:00Z.nc \\\n",
    "        $JEDI_EDU/qg4Dvar/output/exp_mult/bg/bkgd.fc.2009-12-30T00:00:00Z.PT0S.nc \\\n",
    "        --plotwind \\\n",
    "        --output $JEDI_EDU/qg4Dvar/output/exp_mult/plots/4dvar_inc_begin --title \"Increment 00H: multiple obs\"\n",
    "        display < $JEDI_EDU/qg4Dvar/output/exp_mult/plots/4dvar_inc_begin_x_diff.jpg"
   ]
  },
  {
   "cell_type": "code",
   "execution_count": null,
   "id": "f1493b84-91f9-40b6-af8c-a2e0baf67a74",
   "metadata": {},
   "outputs": [],
   "source": [
    "python ./plot.py qg fields \\\n",
    "        $JEDI_EDU/qg4Dvar/output/exp_mult/da/4dvar.multobs.an.2009-12-30T12\\:00\\:00Z.nc \\\n",
    "        $JEDI_EDU/qg4Dvar/output/exp_mult/bg/bkgd.fc.2009-12-30T00:00:00Z.PT12H.nc \\\n",
    "        --plotwind \\\n",
    "        --output $JEDI_EDU/qg4Dvar/output/exp_mult/plots/4dvar_inc_mid --title \"Increment 12H: multiple obs\"\n",
    "        display < $JEDI_EDU/qg4Dvar/output/exp_mult/plots/4dvar_inc_mid_x_diff.jpg"
   ]
  },
  {
   "cell_type": "code",
   "execution_count": null,
   "id": "ca52a15a-7096-4369-bb19-2641db526aa5",
   "metadata": {},
   "outputs": [],
   "source": [
    "python ./plot.py qg fields \\\n",
    "        $JEDI_EDU/qg4Dvar/output/exp_mult/da/4dvar.multobs.an.2009-12-31T00\\:00\\:00Z.nc \\\n",
    "        $JEDI_EDU/qg4Dvar/output/exp_mult/bg/bkgd.fc.2009-12-30T00:00:00Z.P1D.nc \\\n",
    "        --plotwind \\\n",
    "        --output $JEDI_EDU/qg4Dvar/output/exp_mult/plots/4dvar_inc_end --title \"Increment 24H: multiple obs\"\n",
    "        display < $JEDI_EDU/qg4Dvar/output/exp_mult/plots/4dvar_inc_end_x_diff.jpg"
   ]
  },
  {
   "cell_type": "markdown",
   "id": "9485b2c3-2b14-4c6e-9286-d21482518850",
   "metadata": {},
   "source": [
    "Let's also look at the analysis error at the end of the window:"
   ]
  },
  {
   "cell_type": "code",
   "execution_count": null,
   "id": "1b52f4d5-248a-4408-b633-3b4ad05d2a83",
   "metadata": {},
   "outputs": [],
   "source": [
    "python ./plot.py qg fields \\\n",
    "        $JEDI_EDU/qg4Dvar/output/exp_mult/da/4dvar.multobs.an.2009-12-31T00\\:00\\:00Z.nc \\\n",
    "        $JEDI_EDU/qg4Dvar/output/truth/truth.fc.2009-12-15T00\\:00\\:00Z.P16D.nc \\\n",
    "        --fieldmax 112662784 \\\n",
    "        --output $JEDI_EDU/qg4Dvar/output/exp_mult/plots/4dvar_an_end --title \"Analysis error - end of window\"\n",
    "display < $JEDI_EDU/qg4Dvar/output/exp_mult/plots/4dvar_an_end_x_diff.jpg"
   ]
  },
  {
   "cell_type": "markdown",
   "id": "e7f895bc-67f7-42ec-853c-e51a4f486d6f",
   "metadata": {},
   "source": [
    "And forecast error:"
   ]
  },
  {
   "cell_type": "code",
   "execution_count": null,
   "id": "b6da2699-ba8f-4df0-9f9f-e2e6d501701c",
   "metadata": {},
   "outputs": [],
   "source": [
    "python ./plot.py qg fields \\\n",
    "        $JEDI_EDU/qg4Dvar/output/exp_mult/bg/bkgd.fc.2009-12-30T00:00:00Z.P1D.nc \\\n",
    "        $JEDI_EDU/qg4Dvar/output/truth/truth.fc.2009-12-15T00\\:00\\:00Z.P16D.nc \\\n",
    "        --fieldmax 112662784 \\\n",
    "        --output $JEDI_EDU/qg4Dvar/output/exp_mult/plots/4dvar_fc_end --title \"Forecast error - end of window\"\n",
    "display < $JEDI_EDU/qg4Dvar/output/exp_mult/plots/4dvar_fc_end_x_diff.jpg"
   ]
  },
  {
   "cell_type": "code",
   "execution_count": null,
   "id": "0a8b9242-8315-4908-9e06-af4d4d6d9ce5",
   "metadata": {},
   "outputs": [],
   "source": []
  }
 ],
 "metadata": {
  "kernelspec": {
   "display_name": "Bash",
   "language": "bash",
   "name": "bash"
  },
  "language_info": {
   "codemirror_mode": "shell",
   "file_extension": ".sh",
   "mimetype": "text/x-sh",
   "name": "bash"
  }
 },
 "nbformat": 4,
 "nbformat_minor": 5
}
