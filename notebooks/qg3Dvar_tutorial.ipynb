{
 "cells": [
  {
   "cell_type": "markdown",
   "id": "8fd88332-cfbc-4683-a8e5-81012defbbdd",
   "metadata": {
    "tags": []
   },
   "source": [
    "# Welcome to the 3DVar tutorial\n",
    "***\n",
    "In this tutorial we will explore the basic features of 3DVar, using a so-called quasi-geostrophic model. The model mimics the evolution of large-scale features, such as high and low pressure cells in the atmosphere. In the following we first provide a short description of  the 3DVar problem and of the quasi-geostrophic model and what it represents, followed by the data-assimilation experiments."
   ]
  },
  {
   "cell_type": "markdown",
   "id": "45a442d9-2b24-4453-bc29-27d3d3299a84",
   "metadata": {},
   "source": [
    "## Introduction to 3DVar\n",
    "\n",
    "*For those familiar with the 3DVar data-assimilation method this section can be skipped.* <br>\n",
    "3DVar is a data-assimilation method that solves the data-assimilation problem at a given point in time. The basic idea is that we have a first guess of the atmospheric state from a model forecast $x_b$, and want to update this state with a set of observations $y$ obtained at this time. These observations are from the unknown true atmospheric state, and the measurement process is described by <br>\n",
    "<center>$y = H(x_{true}) + \\epsilon_{true}$ </center> <br>\n",
    "in which $H(..)$ is the so-called observation operator that maps a state $x$ to observation space. The $\\epsilon_{true}$ is the observation error. This error is due to the measurement process itself: every measurement will have an error related to the precision of the measurement. There is also another part to this error, called the representation error, that we will not discuss here as it is not essential for understanding 3DVar. <br><br>\n",
    "The 3DVar tries to find the state that is both close to our first guess $x_b$ and close to the observations $y$. It seems natural to measure closeness in terms of the uncertainty in each of them. If the first guess is less certain, the solution doesn't have to be that close to the prior than if it had very small uncertainty. This suggests to set up a variational problem in which we minimize a so-called cost function J(x), defined as <br>\n",
    "<center>$J(x) = \\frac{(x-x_b)^2}{\\sigma_b^2} + \\frac{(y-x)^2}{\\sigma_y^2}$ </center> <br>\n",
    "in which $\\sigma_b$ is the standard deviation of the error in $x_b$, and $\\sigma_y$ is the standard deviation of the error in $y$. If, for instance, $\\sigma_b$ is much larger than $\\sigma_y$ the first term will become important in the cost function for large variations of $x$ from $x_b$, while the second term becomes important for much smaller variations of $x$ from $y$. This shows that this cost function makes sense. (This cost function might seem ad hoc, but it can be derived from Bayes Theorem.) The minimum of this cost function is found by setting its gradient to zero. In this simple problem we find for the gradient:<br>\n",
    "<center>$\\frac{d J(x)}{dx} = 2\\frac{(x-x_b)}{\\sigma_b^2} + 2\\frac{(y-x)}{\\sigma_y^2}$ </center> <br>\n",
    "which we can solve for $x=x_a$, the state at which the gradient is zero, as<br>\n",
    "<center>$x_a=x_b +\\frac{\\sigma_b^2}{\\sigma_b^2+\\sigma_y^2}(y-x_b)$ </center> <br>\n",
    "We see that the analysis state is a linear combination of the first guess and the observation. To see this more clearly we can rewrite the equation as <br>\n",
    "<center>$x_a=\\frac{\\sigma_y^2}{\\sigma_b^2+\\sigma_y^2}x_b +\\frac{\\sigma_b^2}{\\sigma_b^2+\\sigma_y^2}y$ </center> <br>\n",
    "where the analysis is expressed as a weighted average of first guess and observation. When the observation error is much larger than the model error the weight on the first guess $x_b$ is much larger than the weight on the observation, so the analysis will be close to the first guess. This is exactly what we want the data assimilation to do: the analysis should be closest to the quantity with the smallest error.\n",
    "\n",
    "The 3DVar method allows for extending the cost function in two ways, the problem can be multi-dimensional and the observation operator can be nonlinear. This leads to a cost function\n",
    "\n",
    "<center>$J(x) = (x-x_b)^TB^{-1}(x-x_b) + \\left(y-H(x)\\right)^T R^{-1}\\left(y-H(x)\\right)$ </center> <br>\n",
    "The deviation of $x$ from $x_b$ is weighted by the first-guess error covariance $B$, and deviation of $x$ from $y$ is weighted by the observation error covariance. The gradient of the cost function is given by <br>\n",
    "<center>$\\frac{d J(x)}{dx} = 2B^{-1}(x-x_b) - 2H^T R^{-1}\\left(y-H(x)\\right)$ </center> <br>\n",
    "Note the similarity with and the difference from the scalar case above, especially the error variances there and the covariance matrices here. If $H(..)$ is a linear function we can find an analytical expression for the state $x_a$ for which the gradient is zero. Doing that and collecting all appearances of $x-x_b$ on the left hand side and then subtract $H^TR^{-1}Hx_b$ from both sides of the equation results in <br>\n",
    "<center>$\\left(B^{-1}+H^TR^{-1}H \\right) (x_a-x_b) =  H^T R^{-1}(y-Hx_b)$ </center> <br><br>\n",
    "The solution is now obtained as:<br>\n",
    "<center>$x_a = x_b + \\left(B^{-1}+H^TR^{-1}H \\right)^{-1}H^T R^{-1}(y-Hx_b)$ </center> <br>\n",
    "which some of you might recognize as the Kalman filter solution in precision form. Indeed, 3DVar and the Kalman Filter give the same solution as the 3DVar when $H(..)$ is linear. We can rewrite this equation as<br>\n",
    "<center>$x_a = \\left(B^{-1}+H^TR^{-1}H \\right)^{-1} B^{-1}x_b + \\left(B^{-1}+H^TR^{-1}H \\right)^{-1}H^T R^{-1}y$ </center> <br>\n",
    "where we can immediately see how the first-guess and observation covariances determine the analysis state. When the observation covariance is large, so the observations are inaccurate, the first term dominates and the analysis is close to the first guess. If, on the other hand, the observations are very accurate the second term dominates and the analysis will be closer to the observations.<br><br>\n",
    "\n",
    "To make the connection with the scalar case we can use some matrix identities to rewrite the analysis equation as the standard covariance form of the Kalman filter<br>\n",
    "\n",
    "<center>$x_a = x_b + BH^T\\left(HBH^T+R \\right)^{-1}(y-Hx_b)$ </center> <br>\n",
    "We can multiply this equation with H and rewrite it as<br>\n",
    "\n",
    "<center>$Hx_a = R\\left(HBH^T+R \\right)^{-1}x_b + BH^T\\left(HBH^T+R \\right)^{-1}y$ </center> <br>\n",
    "and a direct identification with the scalar case can be made in terms of error variances in the scalar case and error covariances in the multi-dimensional case. The 3DVar solution is a weighted average between the first guess in observation space and the observations, with the weight determined by the covariances of first guess and observation errors.<br><br>\n",
    "\n",
    "Going back to Kalman filter equation in covariance form, which, as mentions is also the solution of the 3DVar problem, the importance of the $B$ matrix becomes apparent. The so-called innovation $y-Hx_b$, so the difference between the observation and the model forecast in observation space, is first multiplied by $\\left(HBH^T+R \\right)^{-1}$, and the resulting vector is still in observation space. The transition to state space is made via the multiplication by $BH^T$. Assume that we only have one observation of, say, pressure at a certain point in space. That observation will not only update the pressure at that point, but it will influence many other variables too, depending on the covariance structure of the B matrix.<br><br>\n",
    "\n",
    "When $H(..)$ is nonlinear we cannot write down an explicit solution, and instead have to use iterative methods to solve this problem. This makes the 3DVar, which is an iterative method, more general than the Kalman Filter.<br><br>\n",
    "\n",
    "However, even when $H(..)$ is linear the 3DVar has advantages in high-dimensional problems such as atmospheric or oceanic data assimilation. When we look at the solution we see that we need the inverse of the background error covariance B, which is a huge matrix. In fact, it is typically so large that we cannot even store it on a computer, let alone determine its inverse. For this reason a 3DVar is typically implemented as follows. First, a control-variable transformation is used, in which a new variable $u$ is defined via $x-x_b = B u$. (Note that it is also possible to use $B^{1/2}$ in the transform, but JEDI uses $B$.) Then the problem<br><br>\n",
    "<center>$\\left(B^{-1}+H^TR^{-1}H \\right) (x-x_b) =  H^T R^{-1}(y-Hx_b)$ </center> <br>\n",
    "becomes<br>\n",
    "<center>$\\left(I+H^TR^{-1}HB \\right) u =  H^T R^{-1}(y-Hx_b)$ </center> <br>\n",
    "which is of the form $Au = b$, and this equation is solved iteratively. The matrix $B$ is not stored as a matrix, but instead as a piece of code that takes as input a vector $u$, and generates as output $B u$.<br><br>\n",
    "\n",
    "With this we are at the end of this short introduction of 3DVar. Next we very briefly describe the quasi-geostrophic model, before we dive into the experiments with JEDI."
   ]
  },
  {
   "cell_type": "markdown",
   "id": "d30cd425-9e71-43bd-b0e2-5ed9c0a3efa9",
   "metadata": {},
   "source": [
    "## The Quasi-geostrophic model\n",
    "\n",
    "This section provides a short description of the quasi-geostrophic model used in the experiments below. The model evolves the potential vorticity over time, with a velocity field derived from the stream function. In turn, the stream function field is calculated from the potential vorticity. Mathematically, the model has two layers and for each layer the model equations are <br>\n",
    "<center>$\\frac{D q_i}{dt} = 0$ </center> <br>\n",
    "where the $q_i$ denote the quasi-geostrophic potential vorticity in vertical layer $i$. The equation expresses that potential vorticity is conserved following air parcels. It is given by <br>\n",
    "<center>$q_i = \\nabla^2 \\psi_i + \\mathcal{F}_{i,i-1} (\\psi_{i-1} -\\psi_i) + \\mathcal{F}_{i,i+1}(\\psi_{i+1}-\\psi_i) + \\beta y$ </center> <br>\n",
    "This equation describes the three terms that build up potential vorticity, namely relative vorticity, which is the rotation of air parcels relative to the solid Earth, the layer thickness, represented by the $\\mathcal{F}$ terms, and the northward position of the air parcel y where $\\beta$ is the northward derivative of the Coriolis parameter. This parameter describes the daily rotation of the Earth around it axis. The actual expressions for the $\\mathcal{F}$ will not be given here, but, as you would expect, they contain the layer thicknesses and the potential temperatures of the layers. <br> <br>\n",
    "The conservation equation for potential vorticity describes the balance of changes in relative vorticity, in planetary vorticity, and in stretching of the fluid column. When one or more of these term changes the others have to compensate to conserve potential vorticity. <br> <br>\n",
    "The model represents a zonal strip around the Earth, so the fields are periodic in the East-West direction and we use free slip on the northern and southern boundaries (which means that the meridional velocities are zero along those boundaries, but the zonal velocities are free to vary). <br>"
   ]
  },
  {
   "cell_type": "markdown",
   "id": "de4c67ac-1d0a-44ba-97a5-64dff967aecd",
   "metadata": {},
   "source": [
    "## 3DVar data-assimilation experiments\n",
    "\n",
    "To set up the data assimilation experiment and run 3DVar we take the following steps:\n",
    "\n",
    "1. We first generate the equivalent of a real atmospheric or oceanic, or other system. This run we call the truth, and in the following we will use the atmosphere as an example.\n",
    "2. We then generate the starting point for our data assimilation experiment. This starting point will be close to, but not the same as, the truth starting point. To be consistent, we perturb the truth state with a random draw from the initial state error distribution. In 3DVar this error distribution is again chosen Gaussian. In the real world this background state comes from a forecast, and contains all prior information we have.\n",
    "3. Then we obtain observations from that truth run, just as observations are generated in the real world. That is, we take measurements of that truth run and then add an observation error to that measurement. This observation error is a random draw from the error distribution of the observations. In 3DVar the assumption is that observation errors are Gaussian distributed. We do all this to mimic what happens when we take real observations from the real atmosphere.\n",
    "4. The final step is to perform the data assimilation, i.e. to run the 3DVar.\n",
    "\n",
    "\n",
    "The following is a quick overview of where the files are. To do this, you can navigate the menu on your left or you can list the files under the different directories.<br><br><br>\n",
    "Now for using Jupyter Labs notebooks: you can click on the box below and hit play, it will run the piece of code there!"
   ]
  },
  {
   "cell_type": "code",
   "execution_count": null,
   "id": "5f26f74f-5b70-497d-808b-a8831a317a46",
   "metadata": {},
   "outputs": [],
   "source": [
    "cd /home/jedi/EDU    # change to the /home/jedi/EDU directory\n",
    "ls                   # list the files in this directory"
   ]
  },
  {
   "cell_type": "markdown",
   "id": "7d028d06-e8b1-4047-b825-6f2aef8e68c6",
   "metadata": {},
   "source": [
    "<br>\n",
    "The following plot shows the directory structure that you will have after running the experiments\n",
    "\n",
    "**IMAGE**\n",
    "\n",
    "The files you will change are the **yaml files** (see where they are in the structure above). When you run jedi it will create output as indicated. Note that each experiment has a *bg* directory with the background files, an *obs* directory with the observation files and a *da* directory with the analysis files. These files are generated by jedi and can  also be vizualized using python, as explained later.\n",
    "\n",
    "Now you are all ready to go!"
   ]
  },
  {
   "cell_type": "markdown",
   "id": "b4a39dd9-eb71-40ae-b052-e6cbabe8f40b",
   "metadata": {
    "jp-MarkdownHeadingCollapsed": true,
    "tags": []
   },
   "source": [
    "## Overview of the experiments\n",
    "\n",
    "In the following you will conduct several experiments. Most will be experiments in which you will assimilate one observation. This will allow you to better understand the JEDI system, but you will especially appreciate how 3DVar works, specifically the role of the covariances matrices for observations and the background. This understanding is a very good introduction to most present-day data assimilation methods, as the way the covariances work is very similar in 3DVar, in Ensemble Kalman Filters, in 4DVar, and in hybrid methods. The experiments with one observation are as follows:\n",
    "\n",
    "| Description | Background yaml file   | Observation yaml file | Data assimilation file |\n",
    "| --- | --- | --- | --- |\n",
    "| exp_default | genenspert_B_default.yaml | makeobs3d_oneobs.yaml | 3dvar_oneobs_default.yaml\n",
    "| exp_hor_len | genenspert_B_hor_len.yaml | makeobs3d_oneobs.yaml | 3dvar_oneobs_hor_len.yaml\n",
    "| exp_ver_len | genenspert_B_ver_len.yaml | makeobs3d_oneobs.yaml | 3dvar_oneobs_ver_len.yaml\n",
    "| exp_std_BR | genenspert_B_std_BR.yaml | makeobs3d_std_BR.yaml | 3dvar_std_BR.yaml\n",
    "| exp_mult_obs | genenspert_B_default.yaml | makeobs3d_mult_obs.yaml | 3dvar_mult_obs.yaml\n",
    "\n",
    "Our last experiment with 3DVar will be a more realistic case with 100 randomly positioned observations."
   ]
  },
  {
   "cell_type": "markdown",
   "id": "b34c9041-0ffb-46ca-a350-2b54022b1aa6",
   "metadata": {
    "tags": []
   },
   "source": [
    "# Experiment 1: 3dvar with one observation\n",
    "***"
   ]
  },
  {
   "cell_type": "markdown",
   "id": "b2761d3d-6f4d-48e5-ae36-319c100f0683",
   "metadata": {
    "tags": []
   },
   "source": [
    "### Step 1: Generate the truth"
   ]
  },
  {
   "cell_type": "markdown",
   "id": "ca962e08-63ad-4468-90ee-f45eb3c378fc",
   "metadata": {
    "tags": []
   },
   "source": [
    "The JEDI system works with **yaml files**, which are essentially control files that contain commands that execute specific tasks coded in the JEDI system. You will get used to them quickly! We first generate a truth run, with would correspond to the evolution of the true atmosphere. This run will be the basis for all experiments we will do in this 3Dvar exercise. We use from the yaml-files directory the file `generate_truth.yaml`. Note the comments after each line, explaining the contents of each line in the yaml file.\n",
    "\n",
    "First move to your directory `/home/jedi/EDU/qg3Dvar/yamls` and open (double click on the file in the tree) the file `generate_truth.yaml`, which looks like this:\n",
    "\n",
    "```yaml\n",
    "forecast length: P18D                             # Run truth model for 18 days\n",
    "geometry:                                         # Declare the geometry of the model grid points\n",
    "  nx: 40                                          # number of grid points in zonal direction\n",
    "  ny: 20                                          # number of grid points in the meridional direction\n",
    "  depths: [4000.0, 6000.0]                        # Height of 1st and 2nd layer\n",
    "initial condition:                                # Declare details of initial condition\n",
    "  date: 2009-12-15T00:00:00Z                      # Date of initial condition\n",
    "  read_from_file: 0                               # Initial condition not read from file but internally generated\n",
    "model:                                            # Declare model used\n",
    "  name: QG                                        # Quasi-geostrophic model\n",
    "  tstep: PT10M                                    # Time step is 10 min\n",
    "output:                                           # Declare output\n",
    "  datadir: qg3Dvar/output/truth/                  # Directory where output file will be stored\n",
    "  date: 2009-12-15T00:00:00Z                      # Date of output file\n",
    "  exp: truth                                      # Experiment to generate truth file\n",
    "  frequency: PT6H                                 # Output frequency is every 6 hours\n",
    "  type: fc                                        # Truth comes from running qg model in forecast mode\n",
    "prints:                                           # Declare output specifics\n",
    "  frequency: PT3H                                 # Generate output every 3 hours\n",
    "```\n",
    "\n",
    "Check what this file does: the file runs the 40 by 20 by 2 (layers) quasi-geostrophic model in a standard configuration. Have a good look at the file, see if it makes sense, and note the simple instructions for this simple problem.\n",
    "\n",
    "\n",
    "After this yaml file is edited as desired we can generate the truth run via:"
   ]
  },
  {
   "cell_type": "code",
   "execution_count": null,
   "id": "ed406966-51a3-4a58-a1e8-8ee3ac88665e",
   "metadata": {},
   "outputs": [],
   "source": [
    "cd /home/jedi/EDU/\n",
    "./build/bin/qg_forecast.x ./qg3Dvar/yamls/generate_truth.yaml"
   ]
  },
  {
   "cell_type": "markdown",
   "id": "d8d97bd1-a658-4ca9-908f-913271743528",
   "metadata": {},
   "source": [
    "You should be able to find the output files in `/home/jedi/EDU/qg3Dvar/output/truth`. The directory should have the files\n",
    "```\n",
    "truth.fc.2009-12-15T00:00:00Z.PT0S.nc\n",
    "truth.fc.2009-12-15T00:00:00Z.PT6H.nc\n",
    "truth.fc.2009-12-15T00:00:00Z.PT12H.nc\n",
    "truth.fc.2009-12-15T00:00:00Z.PT18H.nc\n",
    "truth.fc.2009-12-15T00:00:00Z.P1D.nc\n",
    "truth.fc.2009-12-15T00:00:00Z.P1DT6H.nc\n",
    "…\n",
    "truth.fc.2009-12-15T00:00:00Z.P18D.nc\n",
    "```\n",
    "\n",
    "You can check that this is true by finding these files in the tree on your left, or list the files in `/home/jedi/EDU/qg3Dvar/output/truth` with "
   ]
  },
  {
   "cell_type": "code",
   "execution_count": null,
   "id": "138ed1bb-4fa4-4dfb-a952-302b053159d5",
   "metadata": {},
   "outputs": [],
   "source": [
    "ls /home/jedi/EDU/qg3Dvar/output/truth"
   ]
  },
  {
   "cell_type": "markdown",
   "id": "59b5072e-013e-4cc7-b2de-fb0ae3c558e4",
   "metadata": {},
   "source": [
    "Remember that we set the initial time in the yaml file as 2009-12-15 00:00:00. `PTXX` means the forecast length from the initial time. E.g., the actual time for the file 2009-12-15T00:00:00Z.PT12H.nc will be 2009-12-15 12:00:00. Check that the total run time is 18 days (look at the files in the list), consistent with your yaml file.<br><br>\n",
    "We can make a plot of the truth run using the plotting scripts in `/home/jedi/EDU/plots_scripts`.\n",
    "You need to use it like this:\n",
    "```bash\n",
    "python ./plot.py <model name> <diagnostic to plot> <path/to/file> --plotwind --output <path/to/output/NAME>\n",
    "```\n",
    "For example to plot the different fields of the truth run at 16 days, you will need the following commands:"
   ]
  },
  {
   "cell_type": "code",
   "execution_count": null,
   "id": "7d2616a6-c1b9-4306-9cf7-91914ca00844",
   "metadata": {},
   "outputs": [],
   "source": [
    "cd /home/jedi/EDU/plots_scripts\n",
    "python ./plot.py qg fields /home/jedi/EDU/qg3Dvar/output/truth/truth.fc.2009-12-15T00\\:00\\:00Z.P16D.nc \\\n",
    "        --plotwind --output /home/jedi/EDU/qg3Dvar/output/truth/plots/truth"
   ]
  },
  {
   "cell_type": "markdown",
   "id": "ab636480-b47b-461d-ba90-e4bdd28f6725",
   "metadata": {},
   "source": [
    "For more details about the plotting tool, please read [the documentation](https://jointcenterforsatellitedataassimilation-jedi-docs.readthedocs-hosted.com/en/latest/inside/jedi-components/oops/toy-models/toy-models.html#unified-plotting-tool).\n",
    "<br><br>\n",
    "This calls python to generate plots for the potential vorticity fields, the stream function fields and the wind fields after 16 days of forecast. You can view these plots in `/home/jedi/EDU/qg3Dvar/output/truth/plots/`. The last 2 days will be used as forecasts without data assimilation. These plots will show velocity vectors, if you don't want those you can remove the flag *--plotwind* option in the above instructions.\n",
    "<br><br>\n",
    "Now have a look at the output using your favorite .jpg viewer (this can be python). The file `truth_q.jpg` contains the potential vorticity in both layers. These should look something like: <br>\n",
    "![truth_q](images/truth_q.jpg)\n",
    "<br>\n",
    "The stream function fields can be found in `truth_x.jpg`, and should be similar to:<br>\n",
    "![truth_x](images/truth_x.jpg)\n",
    " <br> <br>\n",
    "Now we are done with the truth, let's generate the background field in the next step."
   ]
  },
  {
   "cell_type": "markdown",
   "id": "19f55f85-1d56-4dcf-b14e-002079faf5b1",
   "metadata": {
    "tags": []
   },
   "source": [
    "### Step 2: Generate the background state"
   ]
  },
  {
   "cell_type": "markdown",
   "id": "33aa2659-e1c2-47a0-8e01-0b43f4121288",
   "metadata": {},
   "source": [
    "We now generate our best initial guess of the state of the system, the *background state*. We use the following yaml `file genenspert_B_default.yaml`:\n",
    "\n",
    "```yaml\n",
    "background error:\n",
    "  covariance model: QgError                         # Use the pre-defined QG error model\n",
    "  horizontal_length_scale: 2.2e6                    # Horizontal correlation scale in m\n",
    "  maximum_condition_number: 1.0e6\n",
    "  standard_deviation: 1.8e7                         # Standard deviation in m^2/s\n",
    "  vertical_length_scale: 15000.0                    # Vertical correlation lengthscale in m\n",
    "  randomization_seed: 7                             # Random seed\n",
    "forecast length: PT0H                               # no need to forecast\n",
    "initial condition:\n",
    "  date: 2009-12-31T00:00:00Z\n",
    "  filename: qg3Dvar/output/truth/truth.fc.2009-12-15T00:00:00Z.P16D.nc\n",
    "members: 1                                          # Generate one perturbed state from the truth\n",
    "model:\n",
    "  name: QG\n",
    "  tstep: PT1H\n",
    "output:\n",
    "  datadir: qg3Dvar/output/exp_default/bg\n",
    "  date: 2009-12-31T00:00:00Z\n",
    "  exp: bkgd\n",
    "  frequency: PT6H\n",
    "  type: an\n",
    "geometry:\n",
    "  nx: 40\n",
    "  ny: 20\n",
    "  depths: [4000.0, 6000.0]\n",
    "perturbed variables: [x]                            # Perturb the whole state vector x\n",
    "```\n",
    "\n",
    "This file perturbs the state variables `[x]` with a random vector drawn from the QG Error covariance model with a correlation length scale of 2200km and standard deviation 1.8e7 $m^2/s$. Note that the control run is generated by adding perturbations to the truth at 2009-12-31-00:00:00. \n",
    "You can create the background by running:"
   ]
  },
  {
   "cell_type": "code",
   "execution_count": null,
   "id": "059fb66d-d7ad-41f4-a3c0-8314e7912b56",
   "metadata": {},
   "outputs": [],
   "source": [
    "cd /home/jedi/EDU\n",
    "./build/bin/qg_gen_ens_pert_B.x ./qg3Dvar/yamls/genenspert_B_default.yaml"
   ]
  },
  {
   "cell_type": "markdown",
   "id": "b6304309-f5a5-4b45-b4c0-2fe50e63efad",
   "metadata": {},
   "source": [
    "The output file will be in\n",
    "`/home/jedi/EDU/qg3Dvar/output/exp_default/bg/bkgd.an.2009-12-31T00:00:00Z.nc`. You can have a look at the perturbation fields and compare the control run (the background you just created) and the truth by running:"
   ]
  },
  {
   "cell_type": "code",
   "execution_count": null,
   "id": "02a97a45-f9b5-4fa4-b843-896f97be01ca",
   "metadata": {},
   "outputs": [],
   "source": [
    "cd /home/jedi/EDU/plots_scripts\n",
    "python ./plot.py qg fields \\\n",
    "        /home/jedi/EDU/qg3Dvar/output/exp_default/bg/bkgd.an.2009-12-31T00\\:00\\:00Z.nc \\\n",
    "        /home/jedi/EDU/qg3Dvar/output/truth/truth.fc.2009-12-15T00\\:00\\:00Z.P16D.nc \\\n",
    "        --output /home/jedi/EDU/qg3Dvar/output/exp_default/plots/bkgd_error --title \"background error\""
   ]
  },
  {
   "cell_type": "markdown",
   "id": "344eca2a-c768-46a0-b30b-4bd287153aaa",
   "metadata": {},
   "source": [
    "The plots should look something like the following. Note that your files might look different because of different random numbers used, but the statistics, such as typical length scales and amplitudes, should be the same. Displayed are the difference between the background stream function and the true stream function for both layers.<br>\n",
    "![bkgd_error_x_diff](images/bkgd_error_x_diff.jpg)<br><br>\n",
    "We can also look at the difference in meridional velocity. Note the size of the differences.<br>\n",
    "![bkgd_error_v_diff](images/bkgd_error_v_diff.jpg)\n",
    "<br><br>\n",
    "Our next step is to collect observations. In our simulated experiments we actually have to generate the observations from the truth."
   ]
  },
  {
   "cell_type": "markdown",
   "id": "bcf3f124-1485-4fc7-af95-0be36bc61227",
   "metadata": {
    "tags": []
   },
   "source": [
    "### Step 3: Generate observations"
   ]
  },
  {
   "cell_type": "markdown",
   "id": "d8237c6b-243e-49f5-84d0-6752a7b35e5e",
   "metadata": {},
   "source": [
    "In this tutorial we will use two types of observation strategies: one observation at one grid point and 100 observations generated at random locations in the model. We start with the one-observation experiments, using an upper-layer stream function observation.\n",
    "\n",
    "We need to look at the file `makeobs3d_oneobs.yaml` that contains the settings to generate the observation for our first  experiment. Look at each line and check the comments to see if they make sense to you.\n",
    "```yaml\n",
    "geometry:\n",
    "  nx: 40\n",
    "  ny: 20\n",
    "  depths: [4000.0, 6000.0]\n",
    "state:\n",
    "  date: 2009-12-31T00:00:00Z\n",
    "  filename: qg3Dvar/output/truth/truth.fc.2009-12-15T00:00:00Z.P16D.nc\n",
    "window begin: 2009-12-30T18:00:00Z\n",
    "window length: PT12H\n",
    "observations:\n",
    "  observers:\n",
    "  - obs operator:\n",
    "      obs type: Stream                             # The observation type is the stream function\n",
    "    obs space:\n",
    "      obsdataout:\n",
    "        obsfile: qg3Dvar/output/exp_default/obs/truth.obs3d.nc\n",
    "      obs type: Stream\n",
    "      generate:\n",
    "        begin: PT6H\n",
    "        nval: 1\n",
    "        obs density: 1                             # Generate one observation\n",
    "        obs error: 4.0e6                           # Observation error standard deviation, in m^2/s\n",
    "        obs period: PT12H\n",
    "make obs: true                                     # Generate the observations\n",
    "obs perturbations: true                            # Add random  measurements to the observations\n",
    "```\n",
    "\n",
    "Note the last line, in which we add a random error to the observation. This is to mimic what happens in the real world where measurement errors are always present. The measurement error is drawn from a Gaussian distribution with standard deviation given in the line with `obs error: 4.0e6`. You might have noticed that the position of the observation is not specified. Of course, for a real system this has to be included, but for the QG experiments the location is fixed, close to the middle of the domain as you will see later.\n",
    "\n",
    "It reads observations at time 18:00, so 18 hours after the start of the truth run.\n",
    "\n",
    "Execute the following command to make this observation:"
   ]
  },
  {
   "cell_type": "code",
   "execution_count": null,
   "id": "d40dd549-8a03-4066-ab86-3d35011431f5",
   "metadata": {},
   "outputs": [],
   "source": [
    " cd /home/jedi/EDU\n",
    "./build/bin/qg_hofx3d.x ./qg3Dvar/yamls/makeobs3d_oneobs.yaml"
   ]
  },
  {
   "cell_type": "markdown",
   "id": "af4f2602-141b-4072-91c1-aab2666b4e14",
   "metadata": {},
   "source": [
    "The output file is in `/home/jedi/EDU/qg3Dvar/output/exp_default/obs/truth.obs3d.nc`.\n",
    "To view this file we can convert it to an easily readable txt file with:"
   ]
  },
  {
   "cell_type": "code",
   "execution_count": null,
   "id": "4aca8846-798a-4359-946d-68c74692f27b",
   "metadata": {},
   "outputs": [],
   "source": [
    "cd /home/jedi/EDU/plots_scripts\n",
    "python ./plot.py qg obs /home/jedi/EDU/qg3Dvar/output/exp_default/obs/truth.obs3d.nc \\\n",
    "        --output /home/jedi/EDU/qg3Dvar/output/exp_default/plots/qg_oneobs\n"
   ]
  },
  {
   "cell_type": "markdown",
   "id": "74c3882d-b1d9-4a87-b106-e28260ecbdfd",
   "metadata": {},
   "source": [
    "And display the content of this text file (which has the location, the observation value and the truth denoted as hofx, pronounce \"H of x\"):"
   ]
  },
  {
   "cell_type": "code",
   "execution_count": null,
   "id": "db9df4c5-9cfe-4bc4-ae17-9b97bc62dbb2",
   "metadata": {},
   "outputs": [],
   "source": [
    "cat /home/jedi/EDU/qg3Dvar/output/exp_default/plots/qg_oneobs.txt"
   ]
  },
  {
   "cell_type": "markdown",
   "id": "90d10125-5418-4585-b927-fdd343378d3d",
   "metadata": {},
   "source": [
    "We are now in the same situation as a numerical weather prediction center: we have the background and observations and are ready to perform the data assimilation in step 4!"
   ]
  },
  {
   "cell_type": "markdown",
   "id": "66d12b15-f0e4-4150-896c-f14b13aa3a84",
   "metadata": {
    "tags": []
   },
   "source": [
    "### Step 4: Run the 3DVar!"
   ]
  },
  {
   "cell_type": "markdown",
   "id": "fbdd1b7d-3e0a-4399-9a33-543ff2461a9f",
   "metadata": {},
   "source": [
    "We are now in a position to perform the data assimilation, in this case a 3dvar. Have a look at `3dvar_oneobs_default.yaml` and see if you can understand every line:\n",
    "\n",
    "```yaml\n",
    "cost function:\n",
    "  cost type: 3D-Var\n",
    "  window begin: 2009-12-30T21:00:00Z\n",
    "  window length: PT6H\n",
    "  analysis variables: [x]\n",
    "  geometry:\n",
    "    nx: 40\n",
    "    ny: 20\n",
    "    depths: [4000.0, 6000.0]\n",
    "  background:\n",
    "    date: 2009-12-31T00:00:00Z\n",
    "    filename: qg3Dvar/output/exp_default/bg/bkgd.an.2009-12-31T00:00:00Z.nc\n",
    "  background error:                    # Note that this should be the same as during background generation\n",
    "    covariance model: QgError\n",
    "    horizontal_length_scale: 2.2e6\n",
    "    maximum_condition_number: 1.0e6\n",
    "    standard_deviation: 1.8e7\n",
    "    vertical_length_scale: 15000.0\n",
    "  observations:\n",
    "   observers:\n",
    "    - obs error:                       # Note that observation error information is in the observation file\n",
    "        covariance model: diagonal\n",
    "      obs operator:\n",
    "        obs type: Stream\n",
    "      obs space:\n",
    "        obsdatain:\n",
    "          obsfile: qg3Dvar/output/exp_default/obs/truth.obs3d.nc\n",
    "        obsdataout:\n",
    "          obsfile: qg3Dvar/output/exp_default/obs/3dvar.obs3d.nc\n",
    "        obs type: Stream\n",
    "variational:\n",
    "  minimizer:\n",
    "    algorithm: DRIPCG                  # The minimizer is a variant of the conjugate gradient algorithm\n",
    "  iterations:\n",
    "  - diagnostics:                       # First outer loop\n",
    "      departures: ombg                 # Generate the observations - background departures\n",
    "    gradient norm reduction: 1.0e-10   # Stop the minimization when either the gradient norm is this size\n",
    "    ninner: 10                         # or when the number of inner loops exceeds 10\n",
    "    geometry:\n",
    "      nx: 20\n",
    "      ny: 10\n",
    "      depths: [4000.0, 6000.0]\n",
    "    test: on\n",
    "    online diagnostics:\n",
    "      write increment: true\n",
    "      increment:\n",
    "        datadir: qg3Dvar/output/exp_default/da\n",
    "        date: 2009-12-31T00:00:00Z\n",
    "        exp: 3dvar.iter1\n",
    "        type: in\n",
    "  - diagnostics:                       # Second outer loop\n",
    "      departures: ombg\n",
    "    gradient norm reduction: 1.0e-10\n",
    "    ninner: 10\n",
    "    geometry:\n",
    "      nx: 40\n",
    "      ny: 20\n",
    "      depths: [4000.0, 6000.0]\n",
    "    test: on\n",
    "    online diagnostics:\n",
    "      write increment: true\n",
    "      increment:\n",
    "        datadir: qg3Dvar/output/exp_default/da\n",
    "        date: 2009-12-31T00:00:00Z\n",
    "        exp: 3dvar.iter2\n",
    "        type: in\n",
    "final:\n",
    "  diagnostics:\n",
    "    departures: oman                   # After minimization generate observations - analysis departures\n",
    "  increment:                           # Save the increment\n",
    "    geometry:\n",
    "      nx: 40\n",
    "      ny: 20\n",
    "      depths: [4000.0, 6000.0]\n",
    "    output:\n",
    "      datadir: qg3Dvar/output/exp_default/da\n",
    "      date: 2009-12-31T00:00:00Z\n",
    "      exp: 3dvar.increment\n",
    "      filename: 3dvar.increment\n",
    "      type: in\n",
    "      analysis variables: [x]\n",
    "output:\n",
    "  datadir: qg3Dvar/output/exp_default/da\n",
    "  exp: 3dvar\n",
    "  frequency: PT6H\n",
    "  type: an\n",
    "```\n",
    "\n",
    "Run this code via"
   ]
  },
  {
   "cell_type": "code",
   "execution_count": null,
   "id": "5814027f-1c20-4f46-83bb-375b7d9c72a8",
   "metadata": {},
   "outputs": [],
   "source": [
    "cd /home/jedi/EDU\n",
    "./build/bin/qg_4dvar.x ./qg3Dvar/yamls/3dvar_oneobs_default.yaml"
   ]
  },
  {
   "cell_type": "markdown",
   "id": "f3ed76ab-1853-4044-8d2b-a1e77fd12452",
   "metadata": {},
   "source": [
    "**You have done it! Your first ever data-assimilation run with JEDI!**\n",
    "\n",
    "There will be four files in `/home/jedi/EDU/qg3Dvar/output/exp_default/da`. List them with the command below, do you know what each file represents?"
   ]
  },
  {
   "cell_type": "code",
   "execution_count": null,
   "id": "7633a9ad-64bf-48a8-a78a-1a8080f50646",
   "metadata": {},
   "outputs": [],
   "source": [
    "ls /home/jedi/EDU/qg3Dvar/output/exp_default/da"
   ]
  },
  {
   "cell_type": "markdown",
   "id": "9f7d99f8-1d02-4b76-9d6f-5c597b1db5f0",
   "metadata": {},
   "source": [
    "We will now plot the results using the python plotting script. The first plot is a plot of the increments from the data assimilation. \n",
    "Run:"
   ]
  },
  {
   "cell_type": "code",
   "execution_count": null,
   "id": "ddf0b2bd-70fb-4a24-8c2c-3dca2d832fed",
   "metadata": {},
   "outputs": [],
   "source": [
    "cd /home/jedi/EDU/plots_scripts\n",
    "python ./plot.py qg fields \\\n",
    "        /home/jedi/EDU/qg3Dvar/output/exp_default/da/3dvar.an.2009-12-31T00\\:00\\:00Z.nc \\\n",
    "        /home/jedi/EDU/qg3Dvar/output/exp_default/bg/bkgd.an.2009-12-31T00\\:00\\:00Z.nc \\\n",
    "        --plotwind \\\n",
    "        --output /home/jedi/EDU/qg3Dvar/output/exp_default/plots/3dvar_increment --title \"analysis increment\""
   ]
  },
  {
   "cell_type": "markdown",
   "id": "c1084974-1581-43b8-908a-eeb285631eaa",
   "metadata": {},
   "source": [
    "Your plots should look very much like the following.<br>\n",
    "![3dvar_increment_x_diff.jpg](images/3dvar_increment_x_diff.jpg)<br><br>\n",
    "Let's see if this figure make sense, and learn a lot about the working of 3DVar in the process. The figure shows the increment in the observed variable, the stream function. But wait, we only observed one grid point in the upper layer, but we see analysis increments *in a much larger area*. To understand this, remember the 3DVar update equation, which for a linear observation operator $H$ is equal to that of the Kalman filter:<br>\n",
    "\n",
    "<center>$x_a = x_b + BH^T\\left(HBH^T+R \\right)^{-1}(y-Hx_b)$</center><br>\n",
    "\n",
    "Since there is only one observation $R$ is a scalar, the observation error variance. This means that $HBH^T$ also has to be a scalar (and it is indeed). Remember hat $H$ maps the state vector in observation space, so the full 1600 (40 by 20 by 2) dimensional state vector is mapped to a 1-dimensional scalar. This means that $H$ is a matrix with 1 row and 1600 columns, and $HBH^T$ is just a scalar.<br><br>\n",
    "Hence, the spreading of information over the larger domain has to come from $BH^T$, which is a matrix of size 1600 by 1. Indeed, it maps the scaled innovation $\\left(HBH^T+R \\right)^{-1}(y-Hx_b)$ back to state space. The covariances between grid points in the prior error covariance $B$ spread this information out in state space. Remember that the spatial length scale in the $B$ matrix is 2200 km, and the grid spacing is ???km, so 2.2 grid points. The figure shows that the spread of information is indeed about twice as large as the correlation length scale specified for the B matrix, as expected for a Gaussian correlation structure.<br><br>\n",
    "This raises the question is we could set this correlation length scale much larger, for instance to get an update over the whole domain just from one observation. Pushing this a bit, one might argue that satellites are not needed, we just need a set of well chosen surface observations and large length scales in the $B$ matrix. However, that thinking is incorrect. The $B$ matrix should contain the length scales of the physical processes. The relevant processes are the high- and low pressure systems, as seen in the true state, one of the first figures in this tutorial above. Indeed, the length scales of the increment have the length scales seen in that figure, which means that we have set the length scales in the $B$ matrix correctly.<br><br>\n",
    "The physical reason for this length scale is that a pressure perturbation at a certain grid point will be physically related to other pressure perturbations around it, and the typical length scale of these relations is the length scale that should be used in the $B$ matrix.<br><br>\n",
    "\n",
    "A question: back to the figure, we only observed a grid point in the upper layer, but there is an increment in the lower layer too. Can you figure out why, perhaps from the yaml file used to generate the 3Dvar solution, or in the yaml file used to generate the background state?<br><br>\n",
    "\n",
    "Indeed, it is the **vertical_length_scale**, which is set to 15000 m. Given the layer thicknesses of 4000 and 6000 m, the two layers are highly correlated, and an increment in the upper layer will be quite similar in the lower layer.<br><br>\n",
    "\n",
    "As a final thing we will look at the **magnitude** of the increment. At the observation location we can write, because we have only one observation:\n",
    "<br>\n",
    "<center> $x_a = x_b + b\\left(b+r \\right)^{-1}(y-x_b)$ </center> <br>\n",
    "\n",
    "in which $b$ is the background error variance at the observed location, $r$ is the variance of the observation error, and we removed the $H$ because we are observing the stream function directly at this grid point, so $H=1$. Using this equation and the values for $b$ from the background error standard deviation ($1.8e7 m^2/s$, so $b = 3.24e14$) and for $r$ from the observation error standard deviation ($4.0e6\\;m^2/s$, so $r=1.6e13$), and your values for the observation and the background state at that grid point (estimate the latter from the background error and the truth value in the observation file), check that the value of the stream function increment makes sense.<br><br>\n",
    "\n",
    "For our set of random numbers we obtained $y=-2.18e8$ and $x_b \\approx -2.1e8 - 1.9e7 = -2.29e8$, leading to an estimate analysis increment for the stream function of $0.95*(-2.18e8-(-2.29e8)) = 1.0e7$, while the 3DVar analysis in the figure gives about $1.3e7$. This is consistent given our very rough estimate. (Note that this should be an exact match, and it will be if the exact background and analysis values are used.)\n",
    "<br><br>\n",
    "We can also look at how derived variables are affected by these increments in stream function. The next two figures show the zonal and meridional velocity increments.<br>\n",
    "\n",
    "![3dvar_increment_u_diff.jpg](images/3dvar_increment_u_diff.jpg)<br><br>\n",
    "![3dvar_increment_v_diff.jpg](images/3dvar_increment_v_diff.jpg)<br><br>\n",
    "\n",
    "Remember that they are related to the streamfunction through<br>\n",
    "\n",
    "<center>$u = -\\frac{\\partial \\psi}{\\partial y} \\;\\;\\;\\;\\; v = \\frac{\\partial \\psi}{\\partial x}$</center> <br>\n",
    "\n",
    "Check that signs and orders of magnitude are indeed as you would expect.\n",
    "\n",
    "While these increments are directly derived from the increments in the stream function, this will be more interesting in a numerical weather prediction model. There the pressure (corresponding to the stream function in a QG model) and the velocities are not necessarily in geostrophic balance; we do have ageostrophic velocities in the real atmosphere, and in our more complete numerical models. Still, the velocity increments will be similar to a pressure observation. Why do you think that is?\n",
    "\n",
    "The answer is that we know that the winds will be in geostrophic balance to a very large extend, so we will build an approximate geostrophic relation into the $B$ matrix. How this is done is beyond this tutorial, but this is standard practice in 3DVar, and has been for many decades.\n",
    "\n",
    "The final figure is the potential vorticity increment:\n",
    "![3dvar_increment_q_diff.jpg](images/3dvar_increment_q_diff.jpg)<br><br>\n",
    "\n",
    "Check if this makes sense to you.\n",
    "\n",
    "After you have done that, note the anti-cyclonic circulation related to the positive mass anomaly from the stream function increment field.\n",
    "\n",
    "This concludes the first 3DVar data-assimilation experiment. Please check that you:\n",
    "\n",
    "1. Understand how to generate a truth run, the background field, observations, and a data assimilation run in JEDI,\n",
    "2. Understand how the background error covariance matrix determines how observation information is spread around over the model state\n",
    "3. Get an initial idea of how error magnitudes influence the increments. More about that in the next experiments!\n",
    "\n",
    "In the next experiments we will change background and observation characteristics to get a better feel for the 3DVar and for the JEDI system."
   ]
  },
  {
   "cell_type": "markdown",
   "id": "eb86c54b-6cab-4056-a43d-8dc769567e5a",
   "metadata": {
    "tags": []
   },
   "source": [
    "# Experiment 2: Change the horizontal length scale of the background error\n",
    "***"
   ]
  },
  {
   "cell_type": "markdown",
   "id": "a0efb42b-c7bc-4265-a4a6-7e4ad4fbe691",
   "metadata": {
    "tags": []
   },
   "source": [
    "In the experiment **exp_hor_len**, we decrease the horizontal length scale of the background error covariance, so instead of using the same as in **exp_default** `horizontal_length_scale: 2.2e6` we will use `horizontal_length_scale: 1.1e6`. We will follow the same 4-step procedure as before.<br>\n",
    "### Step 1: Truth\n",
    "The truth should be exactly the same, we can skip step 1.<br>"
   ]
  },
  {
   "cell_type": "markdown",
   "id": "984f6bd5-2650-4d89-baf3-590d44fd92bd",
   "metadata": {
    "tags": []
   },
   "source": [
    "### Step 2: Background\n",
    "Generate a background state and covariance model<br>\n",
    "In order to be consistent, when we change the horizontal length scale of the background error we also need to re-generate the control run.\n",
    "Make a copy of the `genenspert_B_default.yaml` file and check that you have a new file named `genenspert_B_hor_len.yaml` in the `yamls` folder:"
   ]
  },
  {
   "cell_type": "code",
   "execution_count": null,
   "id": "763a7b08-c8d0-49bd-9931-105771bb8329",
   "metadata": {},
   "outputs": [],
   "source": [
    "cp /home/jedi/EDU/qg3Dvar/yamls/genenspert_B_default.yaml /home/jedi/EDU/qg3Dvar/yamls/genenspert_B_hor_len.yaml\n",
    "ls /home/jedi/EDU/qg3Dvar/yamls/"
   ]
  },
  {
   "cell_type": "markdown",
   "id": "8a558e9d-1e06-45bc-a6cb-675fd85dff96",
   "metadata": {
    "tags": []
   },
   "source": [
    "You need to modify this new yaml file (right now it is just a copy of the first one). To do so, open `genenspert_B_hor_len.yaml` (double click on it in the tree of files) and change the value for the `horizontal_length_scale`to 1.1e6.<br>\n",
    "You also need to change which directory (`datadir` in the yaml file) the background will be written to! Use `exp_hor_len` instead of `exp_default.`<br><br>\n",
    "\n",
    "Execute these commands:"
   ]
  },
  {
   "cell_type": "code",
   "execution_count": null,
   "id": "236d742a-eeb8-47c1-b9dd-a637b3e15e30",
   "metadata": {
    "tags": []
   },
   "outputs": [],
   "source": [
    "cd /home/jedi/EDU\n",
    "./build/bin/qg_gen_ens_pert_B.x ./qg3Dvar/yamls/genenspert_B_hor_len.yaml"
   ]
  },
  {
   "cell_type": "markdown",
   "id": "7cec7e04-b973-442e-8667-922c4d02b897",
   "metadata": {
    "tags": []
   },
   "source": [
    "The output file will be in `/home/jedi/EDU/qg3Dvar/output/exp_hor_len/bg/bkgd.an.2009-12-31T00:00:00Z.nc`"
   ]
  },
  {
   "cell_type": "markdown",
   "id": "5320f7db-81d8-443c-8c88-62525fd5c2ea",
   "metadata": {
    "tags": []
   },
   "source": [
    "### Step 3: Observations\n",
    "\n",
    "The observation are the same, so we just can copy them from the default experiment (and verify that it is there):"
   ]
  },
  {
   "cell_type": "code",
   "execution_count": null,
   "id": "eb7d7bbd-0f33-4a75-9ea0-1b2fa73f3e94",
   "metadata": {
    "tags": []
   },
   "outputs": [],
   "source": [
    "cp /home/jedi/EDU/qg3Dvar/output/exp_default/obs/truth.obs3d.nc /home/jedi/EDU/qg3Dvar/output/exp_hor_len/obs\n",
    "ls /home/jedi/EDU/qg3Dvar/output/exp_hor_len/obs"
   ]
  },
  {
   "cell_type": "markdown",
   "id": "94bc07a8-9603-499d-be66-8f8e7f013c85",
   "metadata": {
    "tags": []
   },
   "source": [
    "### Step 4: Run the data assimilation:\n",
    "Copy and paste the yaml file `3dvar_oneobs_default.yaml`:"
   ]
  },
  {
   "cell_type": "code",
   "execution_count": null,
   "id": "2727fca2-a03d-4df9-ba47-aea6a45df368",
   "metadata": {
    "tags": []
   },
   "outputs": [],
   "source": [
    "cp /home/jedi/EDU/qg3Dvar/yamls/3dvar_oneobs_default.yaml /home/jedi/EDU/qg3Dvar/yamls/3dvar_oneobs_hor_len.yaml\n",
    "ls /home/jedi/EDU/qg3Dvar/yamls/"
   ]
  },
  {
   "cell_type": "markdown",
   "id": "fda38bfc-242b-40ae-a0ca-671a4ca3927e",
   "metadata": {},
   "source": [
    "You need to open `3dvar_oneobs_hor_len.yaml` and modify several values:\n",
    "- `horizontal_length_scale` under the `background error` section.\n",
    "- replace all the occurences of `exp_default` by `exp_hor_len`: this ensures we are using the correct files for background and observations, and aren't overwriting any previous results.\n",
    "- rename `exp` to `3dvar_hor_len` in `output` section at the very end of the yaml file (your analysis will be saved as `3dvar_hor_len.an.2009-12-31T00:00:00Z.nc`)"
   ]
  },
  {
   "cell_type": "code",
   "execution_count": null,
   "id": "cfbf5c13-21a3-4ae1-b1b7-eb292a24d159",
   "metadata": {
    "tags": []
   },
   "outputs": [],
   "source": [
    "cd /home/jedi/EDU\n",
    "./build/bin/qg_4dvar.x ./qg3Dvar/yamls/3dvar_oneobs_hor_len.yaml"
   ]
  },
  {
   "cell_type": "markdown",
   "id": "b9f536c8-228f-48d8-a0c2-79dc5183007b",
   "metadata": {
    "tags": []
   },
   "source": [
    "<br>Before you look at the results, take a moment to think and form an idea of what you expect to see. After that, have a look at the results via the increment figures, generated via:"
   ]
  },
  {
   "cell_type": "code",
   "execution_count": null,
   "id": "0f31b683-0ff4-449a-8798-472bf63313cb",
   "metadata": {
    "tags": []
   },
   "outputs": [],
   "source": [
    "cd /home/jedi/EDU/plots_scripts/\n",
    "python ./plot.py qg fields \\\n",
    "        /home/jedi/EDU/qg3Dvar/output/exp_hor_len/da/3dvar_hor_len.an.2009-12-31T00\\:00\\:00Z.nc \\\n",
    "        /home/jedi/EDU/qg3Dvar/output/exp_hor_len/bg/bkgd.an.2009-12-31T00\\:00\\:00Z.nc \\\n",
    "         --plotwind --output /home/jedi/EDU/qg3Dvar/output/exp_hor_len/plots/3dvar_hor_len_increment --title \"analysis increment\""
   ]
  },
  {
   "cell_type": "markdown",
   "id": "52244d2c-a65b-4f9f-9c03-04b1e8c66347",
   "metadata": {
    "tags": []
   },
   "source": [
    "<br>Study the results and try to answer the following questions:\n",
    "\n",
    "- Why is the increment area smaller than in the default experiment? Is this what you expected?\n",
    "- Do the velocities have the same magnitude as in the default experiment? Why, or why not?\n",
    "- Try to make sure you understand 'everything' before you move on!\n",
    "\n",
    "This experiment should have:\n",
    "- Increased your skills in using and changing yaml files\n",
    "- Given you a better understanding of the influence of the horizontal length scales used in the $B$ matrix."
   ]
  },
  {
   "cell_type": "markdown",
   "id": "a0a4a614-b3b3-4ca4-a531-14e9aa080541",
   "metadata": {
    "tags": []
   },
   "source": [
    "# Experiment 3: Change the vertical length scale of the background error.\n",
    "***"
   ]
  },
  {
   "cell_type": "markdown",
   "id": "de6dcfe4-defe-412c-9b1b-dec62238e94e",
   "metadata": {
    "jp-MarkdownHeadingCollapsed": true,
    "tags": []
   },
   "source": [
    "In this experiment, we decrease the vertical length scale of the background error covariance, so instead of using\n",
    "in `vertical_length_scale: 15000.0` like in **exp_default** we will use `vertical_length_scale: 5000.0` in **exp_ver_len**."
   ]
  },
  {
   "cell_type": "markdown",
   "id": "ac05e1fe-6c81-43b1-8ecd-66f7d49dc179",
   "metadata": {
    "jp-MarkdownHeadingCollapsed": true,
    "tags": []
   },
   "source": [
    "### Step 1: Truth\n",
    "The truth should be exactly the same. So, we can skip step 1."
   ]
  },
  {
   "cell_type": "markdown",
   "id": "4ac5980d-b73e-4a4f-92fc-467bf7748de3",
   "metadata": {
    "tags": []
   },
   "source": [
    "### Step 2: Background\n",
    "Generate a background state and covariance model<br>\n",
    "In order to be consistent, when we change the vertical length scale of the background error, we also need to re-generate the control run.\n",
    "Make a copy of the `genenspert_B_default.yaml` file and check that you have a new file named `genenspert_B_ver_len.yaml` in the `yamls` folder:"
   ]
  },
  {
   "cell_type": "code",
   "execution_count": null,
   "id": "96f106d7-88d9-4504-8d3f-dea30d4b8408",
   "metadata": {},
   "outputs": [],
   "source": [
    "cp /home/jedi/EDU/qg3Dvar/yamls/genenspert_B_default.yaml /home/jedi/EDU/qg3Dvar/yamls/genenspert_B_ver_len.yaml\n",
    "ls /home/jedi/EDU/qg3Dvar/yamls/"
   ]
  },
  {
   "cell_type": "markdown",
   "id": "a01f2ec3-5415-4160-bacc-3edb0be9eeb8",
   "metadata": {},
   "source": [
    "You need to modify this new yaml file (right now it is just a copy of the first one). To do so, open `genenspert_B_hor_len.yaml` (double click on it in the tree of files) and change the value for the `vertical_length_scale`to 5000.0.<br>\n",
    "Don't forget to change which directory (`datadir` in the yaml file) the background will be written to! <br><br>\n",
    "Execute these commands:"
   ]
  },
  {
   "cell_type": "code",
   "execution_count": null,
   "id": "48fb46d2-7510-4a59-8820-d6501da5740a",
   "metadata": {
    "tags": []
   },
   "outputs": [],
   "source": [
    "cd /home/jedi/EDU\n",
    "./build/bin/qg_gen_ens_pert_B.x ./qg3Dvar/yamls/genenspert_B_ver_len.yaml"
   ]
  },
  {
   "cell_type": "markdown",
   "id": "3040f6cb-7047-4f53-8578-6b241081dc8d",
   "metadata": {
    "tags": []
   },
   "source": [
    "The output file will be in `/home/jedi/EDU/qg3Dvar/output/exp_ver_len/bg/bkgd.an.2009-12-31T00:00:00Z.nc`"
   ]
  },
  {
   "cell_type": "markdown",
   "id": "bc061672-876c-4e49-8b47-fc2e5addb952",
   "metadata": {
    "tags": []
   },
   "source": [
    "### Step 3: Observations\n",
    "\n",
    "The observation are still the same, we just can copy them from the default experiment:"
   ]
  },
  {
   "cell_type": "code",
   "execution_count": null,
   "id": "0d5cabc1-a4fa-4a39-b023-7a520c53e67e",
   "metadata": {
    "tags": []
   },
   "outputs": [],
   "source": [
    "cp /home/jedi/EDU/qg3Dvar/output/exp_default/obs/truth.obs3d.nc /home/jedi/EDU/qg3Dvar/output/exp_ver_len/obs\n",
    "ls /home/jedi/EDU/qg3Dvar/output/exp_ver_len/obs"
   ]
  },
  {
   "cell_type": "markdown",
   "id": "3f7ddaf0-2dfc-4f6e-b9b9-523e7b8d89dd",
   "metadata": {
    "tags": []
   },
   "source": [
    "### Step 4: Run the data assimilation\n",
    "Copy and paste the yaml file `3dvar_oneobs_default.yaml`:"
   ]
  },
  {
   "cell_type": "code",
   "execution_count": null,
   "id": "eb6646b0-b7c1-440d-a3f9-141d68917e12",
   "metadata": {
    "tags": []
   },
   "outputs": [],
   "source": [
    "cp /home/jedi/EDU/qg3Dvar/yamls/3dvar_oneobs_default.yaml /home/jedi/EDU/qg3Dvar/yamls/3dvar_oneobs_ver_len.yaml\n",
    "ls /home/jedi/EDU/qg3Dvar/yamls/"
   ]
  },
  {
   "cell_type": "markdown",
   "id": "0fb672a5-c6e3-42d2-8964-7564f77a6aa8",
   "metadata": {
    "tags": []
   },
   "source": [
    "You need to open `3dvar_oneobs_hor_len.yaml` and modify several values:\n",
    "- `vertical_length_scale` under the `background error` section.\n",
    "- replace all the occurences of `exp_default` by `exp_ver_len`: this ensures we are using the correct files for background and observations, and aren't overwriting any previous results.\n",
    "- rename `exp` to `3dvar_ver_len` in `output` section at the very end of the yaml file (your analysis will be saved as `3dvar_ver_len.an.2009-12-31T00:00:00Z.nc`)"
   ]
  },
  {
   "cell_type": "code",
   "execution_count": null,
   "id": "db77f40d-1d6b-4103-98e3-faafdee182fd",
   "metadata": {
    "tags": []
   },
   "outputs": [],
   "source": [
    "cd /home/jedi/EDU\n",
    "./build/bin/qg_4dvar.x ./qg3Dvar/yamls/3dvar_oneobs_ver_len.yaml"
   ]
  },
  {
   "cell_type": "markdown",
   "id": "7853e54f-fc18-4da9-9537-69ceba22e428",
   "metadata": {
    "tags": []
   },
   "source": [
    "<br><br>\n",
    "What do you expect to see in the increments? Compare your ideas with the results using the increment figures, generated via:"
   ]
  },
  {
   "cell_type": "code",
   "execution_count": null,
   "id": "47f0e7ff-12ea-4b01-b1a0-909f0bf8d1ea",
   "metadata": {
    "tags": []
   },
   "outputs": [],
   "source": [
    "cd /home/jedi/EDU/plots_scripts/\n",
    "python ./plot.py qg fields \\\n",
    "        /home/jedi/EDU/qg3Dvar/output/exp_ver_len/da/3dvar_ver_len.an.2009-12-31T00\\:00\\:00Z.nc \\\n",
    "        /home/jedi/EDU/qg3Dvar/output/exp_ver_len/bg/bkgd.an.2009-12-31T00\\:00\\:00Z.nc \\\n",
    "        --plotwind --output /home/jedi/EDU/qg3Dvar/output/exp_ver_len/plots/3dvar_ver_len_increment --title \"analysis increment\""
   ]
  },
  {
   "cell_type": "markdown",
   "id": "7debc55e-91f3-4e02-ba37-21f518857087",
   "metadata": {
    "tags": []
   },
   "source": [
    "Check the differences between these plots and the default experiment.\n",
    "- Is the increment in the upper layer the same?\n",
    "- Why is the increment in the lower layer smaller?\n",
    "\n",
    "This experiment should have\n",
    "- Increased your skills in using and changing yaml files\n",
    "- Given you a better understanding of the influence of the horizontal length scales used in the $B$ matrix."
   ]
  },
  {
   "cell_type": "markdown",
   "id": "0db0a53f-fc77-4e6d-b1fe-bbd0d745070b",
   "metadata": {
    "tags": []
   },
   "source": [
    "# Experiment 4: Change the magnitude of the background and the observation error, while keeping their ratio fixed\n",
    "***"
   ]
  },
  {
   "cell_type": "markdown",
   "id": "49d6dd29-41bb-4013-909c-c0c1ee6d3ac5",
   "metadata": {
    "tags": []
   },
   "source": [
    "In this experiment, we increase the magnitude of the background error and the observation error covariance. In the yaml used to generate the control run (i.e., add perturbations to the truth) in **exp_default** we were using `standard_deviation: 1.8e7`. In **exp_std_BR** we will use `standard_deviation: 3.6e7`.\n",
    "\n",
    "In the yaml to generate the observations, we need to use `obs error: 8.0e6` instead of `obs error: 4.0e6`."
   ]
  },
  {
   "cell_type": "markdown",
   "id": "399d0f80-feb3-4aa5-a46f-69b5edebd902",
   "metadata": {
    "tags": []
   },
   "source": [
    "### Step 1: Truth\n",
    "The truth should be exactly the same. So, we can skip step 1."
   ]
  },
  {
   "cell_type": "markdown",
   "id": "3dd39093-c624-4fee-acf7-336d25381d0e",
   "metadata": {
    "tags": []
   },
   "source": [
    "### Step 2: Background\n",
    "Generate a background state and covariance model\n",
    "In order to be consistent, when we change the vertical length scale of the background error, we also need to re-generate the control run.\n",
    "Make a copy of the `genenspert_B_default.yaml` file and check that you have a new file named `genenspert_B_std_BR.yaml` in the `yamls` folder:"
   ]
  },
  {
   "cell_type": "code",
   "execution_count": null,
   "id": "27702146-625d-4671-bbc2-1ed7e4521bad",
   "metadata": {
    "tags": []
   },
   "outputs": [],
   "source": [
    "cp /home/jedi/EDU/qg3Dvar/yamls/genenspert_B_default.yaml /home/jedi/EDU/qg3Dvar/yamls/genenspert_B_std_BR.yaml\n",
    "ls /home/jedi/EDU/qg3Dvar/yamls/"
   ]
  },
  {
   "cell_type": "markdown",
   "id": "953c842e-f42f-44ac-89a6-a84efd4a6d49",
   "metadata": {
    "tags": []
   },
   "source": [
    "You need to modify this new yaml file (right now it is just a copy of the first one). To do so, open `genenspert_B_std_BR.yaml` (double click on it in the tree of files) and change the value for the `standard_deviation` to 3.6e7.<br>\n",
    "Don't forget to change which directory (`datadir` in the yaml file) the background will be written to! <br><br>\n",
    "Execute these commands:"
   ]
  },
  {
   "cell_type": "code",
   "execution_count": null,
   "id": "cdf0adc2-d12e-428e-b1ae-a05157b81d12",
   "metadata": {
    "tags": []
   },
   "outputs": [],
   "source": [
    "cd /home/jedi/EDU\n",
    "./build/bin/qg_gen_ens_pert_B.x ./qg3Dvar/yamls/genenspert_B_std_BR.yaml"
   ]
  },
  {
   "cell_type": "markdown",
   "id": "7191e14b-8116-4abe-b838-d14dc041227c",
   "metadata": {
    "tags": []
   },
   "source": [
    "The output file will be in `/home/jedi/EDU/qg3Dvar/output/exp_std_BR/bg/bkgd.an.2009-12-31T00:00:00Z.nc`"
   ]
  },
  {
   "cell_type": "markdown",
   "id": "9011caf8-4a2c-41ac-8d49-7b83c9d7047e",
   "metadata": {
    "tags": []
   },
   "source": [
    "### Step 3: Observations\n",
    "\n",
    "Since we increase the observation error, we need to re-generate the observation as well. Make a copy of the `makeobs3d_oneobs.yaml` file and check that you have a new file named `makeobs3d_oneobs_std_BR.yaml` in the `yamls` folder:"
   ]
  },
  {
   "cell_type": "code",
   "execution_count": null,
   "id": "6aee4f9c-9261-458b-b991-edf4c5b0e04a",
   "metadata": {
    "tags": []
   },
   "outputs": [],
   "source": [
    "cp /home/jedi/EDU/qg3Dvar/yamls/makeobs3d_oneobs.yaml /home/jedi/EDU/qg3Dvar/yamls/makeobs3d_oneobs_std_BR.yaml\n",
    "ls /home/jedi/EDU/qg3Dvar/yamls/"
   ]
  },
  {
   "cell_type": "markdown",
   "id": "eae4aa7f-9406-4a23-a670-2b2fcd7753db",
   "metadata": {
    "tags": []
   },
   "source": [
    "You need to modify this new yaml file (right now it is just a copy of the first one). To do so, open `makeobs3d_oneobs_std_BR.yaml` (double click on it in the tree of files) and change the value for the `obs error` to 2.0e6.\n",
    "Don't forget to change which directory (in the `obsfile` section) the observations will be written to!\n",
    "\n",
    "Execute these commands:"
   ]
  },
  {
   "cell_type": "code",
   "execution_count": null,
   "id": "316c6764-0be0-4a79-83f0-0d6fd8bf476d",
   "metadata": {
    "tags": []
   },
   "outputs": [],
   "source": [
    "cd /home/jedi/EDU\n",
    "./build/bin/qg_hofx3d.x ./qg3Dvar/yamls/makeobs3d_oneobs_std_BR.yaml"
   ]
  },
  {
   "cell_type": "markdown",
   "id": "3320ec27-8b43-43e7-aed2-fd86a751a5c1",
   "metadata": {
    "tags": []
   },
   "source": [
    "Note that we are using the same random seed as is used in the default experiment. Therefore, the same perturbation is applied to generate the perturbation that is added to the truth to obtain the observation, but the magnitude of this perturbation is divided by 2."
   ]
  },
  {
   "cell_type": "markdown",
   "id": "4c1dbd2f-403b-414a-a7d3-ad765e3c3472",
   "metadata": {
    "tags": []
   },
   "source": [
    "### Step 4: Run the data assimilation:\n",
    "Copy and paste the yaml file `3dvar_oneobs_default.yaml`:"
   ]
  },
  {
   "cell_type": "code",
   "execution_count": null,
   "id": "bc70bf8b-4ac9-4bf2-9f24-fe4e4c4391be",
   "metadata": {
    "tags": []
   },
   "outputs": [],
   "source": [
    "cp /home/jedi/EDU/qg3Dvar/yamls/3dvar_oneobs_default.yaml /home/jedi/EDU/qg3Dvar/yamls/3dvar_oneobs_std_BR.yaml\n",
    "ls /home/jedi/EDU/qg3Dvar/yamls/"
   ]
  },
  {
   "cell_type": "markdown",
   "id": "42999fd1-bbbe-4e77-ad90-f04e5275823c",
   "metadata": {
    "tags": []
   },
   "source": [
    "You need to open `3dvar_oneobs_std_BR.yaml` and modify several values:\n",
    "- `standard_deviation` under the `background error section` section.\n",
    "- replace all the occurences of `exp_default` by `exp_std_BR`: this ensures we are using the correct files for background and observations, and aren't overwriting any previous results.\n",
    "- rename `exp` to `3dvar_std_BR` in `output` section at the very end of the yaml file (your analysis will be saved as `3dvar_std_BR.an.2009-12-31T00:00:00Z.nc`)"
   ]
  },
  {
   "cell_type": "code",
   "execution_count": null,
   "id": "e508ebc6-d6c3-4002-a88e-c156689d20ee",
   "metadata": {
    "tags": []
   },
   "outputs": [],
   "source": [
    "cd /home/jedi/EDU\n",
    "./build/bin/qg_4dvar.x ./qg3Dvar/yamls/3dvar_oneobs_std_BR.yaml"
   ]
  },
  {
   "cell_type": "markdown",
   "id": "9313c61d-9ebe-4c69-8741-a7819d236de2",
   "metadata": {
    "tags": []
   },
   "source": [
    "<br><br>\n",
    "Before you look - as always - think about what you would expect to see.<br>\n",
    "Check the results after plotting the increment figures:"
   ]
  },
  {
   "cell_type": "code",
   "execution_count": null,
   "id": "f22f5e48-5ae1-47c6-b106-c46d6b1a4d65",
   "metadata": {
    "tags": []
   },
   "outputs": [],
   "source": [
    "cd /home/jedi/EDU/plots_scripts/\n",
    "python ./plot.py qg fields \\\n",
    "        /home/jedi/EDU/qg3Dvar/output/exp_std_BR/da/3dvar_std_BR.an.2009-12-31T00\\:00\\:00Z.nc \\\n",
    "        /home/jedi/EDU/qg3Dvar/output/exp_std_BR/bg/bkgd.an.2009-12-31T00\\:00\\:00Z.nc \\\n",
    "        --plotwind --output /home/jedi/EDU/qg3Dvar/output/exp_std_BR/plots/3dvar_std_BR_increment --title \"analysis increment\""
   ]
  },
  {
   "cell_type": "markdown",
   "id": "bb34506d-f66f-4c23-af48-2f65ba038f44",
   "metadata": {
    "tags": []
   },
   "source": [
    "Compare the results with those from the default experiment.\n",
    "- Are the shapes the same as in the default experiment?\n",
    "- Are the magnitudes of the increments the same?\n",
    "- Why are they different by a factor 2?\n",
    "\n",
    "This experiment should have\n",
    "- Increased your skills in using and changing yaml files,\n",
    "- Given you a better understanding of the relative influence of the $B$ and $R$ matrices in 3DVar (and in data assimilation in general)."
   ]
  },
  {
   "cell_type": "markdown",
   "id": "58a4e25e-1885-4da3-bc24-baf789db8d1f",
   "metadata": {
    "tags": []
   },
   "source": [
    "# Experiment 5: Assimilate multiple observations\n",
    "***"
   ]
  },
  {
   "cell_type": "markdown",
   "id": "c53ed863-8ba9-4112-8208-7f8a2e8789b4",
   "metadata": {
    "tags": []
   },
   "source": [
    "We now embark on a more realistic situation in which 100 observations are assimilated all at once."
   ]
  },
  {
   "cell_type": "markdown",
   "id": "f57a23e8-d5ee-45bc-9012-0eb4d06cee07",
   "metadata": {
    "tags": []
   },
   "source": [
    "### Step 1: Truth\n",
    "The truth should be exactly the same. So, we can skip step 1."
   ]
  },
  {
   "cell_type": "markdown",
   "id": "40b7d901-6037-463d-9d49-3808eb09497f",
   "metadata": {
    "jp-MarkdownHeadingCollapsed": true,
    "tags": []
   },
   "source": [
    "### Step 2: Background\n",
    "Generate a control run: we can just copy the file from the exp_default experiment:"
   ]
  },
  {
   "cell_type": "code",
   "execution_count": null,
   "id": "da45cd49-e141-47d3-b9b2-418b5d17b0bb",
   "metadata": {
    "tags": []
   },
   "outputs": [],
   "source": [
    "cp /home/jedi/EDU/qg3Dvar/output/exp_default/bg/bkgd.an.2009-12-31T00\\:00\\:00Z.nc /home/jedi/EDU/qg3Dvar/output/exp_mult_obs/bg/\n",
    "ls /home/jedi/EDU/qg3Dvar/output/exp_mult_obs/bg/"
   ]
  },
  {
   "cell_type": "markdown",
   "id": "45eccd3e-70be-48ed-9827-d2ac300cc672",
   "metadata": {
    "jp-MarkdownHeadingCollapsed": true,
    "tags": []
   },
   "source": [
    "### Step 3: Observations\n",
    "We generate 100 observations at random locations using the `makeobs3d_mult_obs.yaml` yaml file"
   ]
  },
  {
   "cell_type": "markdown",
   "id": "6227e1be-504f-4b19-af76-da7bc455c6aa",
   "metadata": {
    "tags": []
   },
   "source": [
    "Have a look at the observation-generating part: instead of the following lines in **exp_default**:\n",
    "\n",
    "```yaml\n",
    "generate:\n",
    "  begin: PT6H\n",
    "  nval: 1\n",
    "  obs locations:\n",
    "    lon: [-10]                               # List of longitudes for generated observations (only one here)\n",
    "    lat: [35]                                # List of latitudes for generated observations (only one here)\n",
    "    z: [7000.0]                              # List of heights for generated observations (only one here)\n",
    "  obs error: 4.0e6                           # Observation error standard deviation, in m^2/s\n",
    "  obs period: PT12H\n",
    "```\n",
    "We will now use in **exp_mult_obs**:\n",
    "```yaml\n",
    "generate:\n",
    "  begin: PT6H\n",
    "  nval: 1\n",
    "  obs density: 100                         # Generate 100 observation\n",
    "  obs error: 4.0e6\n",
    "  obs period: PT12H\n",
    "```\n",
    "Note that we don't have a saying about the locations where the observations are generated.<br>\n",
    "Run this with:"
   ]
  },
  {
   "cell_type": "code",
   "execution_count": null,
   "id": "741e29cc-8c59-49bf-8593-c6cc827bebe5",
   "metadata": {
    "tags": []
   },
   "outputs": [],
   "source": [
    "cd /home/jedi/EDU\n",
    "./build/bin/qg_hofx3d.x ./qg3Dvar/yamls/makeobs3d_mult_obs.yaml"
   ]
  },
  {
   "cell_type": "markdown",
   "id": "105716fb-159c-4edd-9426-72062f31b78a",
   "metadata": {},
   "source": [
    "You can look quickly at the different positions / values of these observations with"
   ]
  },
  {
   "cell_type": "code",
   "execution_count": null,
   "id": "165c0d63-55e7-4915-bc8f-4ef72b6a9a14",
   "metadata": {},
   "outputs": [],
   "source": [
    "cd /home/jedi/EDU/plots_scripts\n",
    "python ./plot.py qg obs /home/jedi/EDU/qg3Dvar/output/exp_mult_obs/obs/truth.obs3d.nc \\\n",
    "        --output /home/jedi/EDU/qg3Dvar/output/exp_mult_obs/plots/qg_multobs\n",
    "cat /home/jedi/EDU/qg3Dvar/output/exp_mult_obs/plots/qg_multobs.txt"
   ]
  },
  {
   "cell_type": "markdown",
   "id": "d1275ed5-fd10-44cf-a80e-9ef36eef5517",
   "metadata": {
    "tags": []
   },
   "source": [
    "### Step 4: Run the data assimilation"
   ]
  },
  {
   "cell_type": "markdown",
   "id": "3a377515-f49c-4865-8fec-ceeb29895ad8",
   "metadata": {
    "tags": []
   },
   "source": [
    "Copy and paste the yaml file 3dvar_oneobs_default.yaml:"
   ]
  },
  {
   "cell_type": "code",
   "execution_count": null,
   "id": "3e7362be-47c1-42a3-9018-cb6e2d074e68",
   "metadata": {
    "tags": []
   },
   "outputs": [],
   "source": [
    "cp /home/jedi/EDU/qg3Dvar/yamls/3dvar_oneobs_default.yaml /home/jedi/EDU/qg3Dvar/yamls/3dvar_mult_obs.yaml\n",
    "ls /home/jedi/EDU/qg3Dvar/yamls/"
   ]
  },
  {
   "cell_type": "markdown",
   "id": "e36002bb-4eab-4913-84c0-9cb64602e2ee",
   "metadata": {
    "tags": []
   },
   "source": [
    "You need to open `3dvar_mult_obs.yaml` and modify several values:\n",
    "- replace all the occurences of `exp_default` by `exp_mult_obs`: this ensures we are using the correct files for background and observations, and aren't overwriting any previous results.\n",
    "- rename `exp` to `3dvar_mult_obs` in `output` section at the very end of the yaml file (your analysis will be saved as `3dvar_mult_obs.an.2009-12-31T00:00:00Z.nc`)\n",
    "\n",
    "and run the 3Dvar:"
   ]
  },
  {
   "cell_type": "code",
   "execution_count": null,
   "id": "713fab3b-25d5-4437-98fc-d5ff4b358dec",
   "metadata": {},
   "outputs": [],
   "source": [
    "cd /home/jedi/EDU\n",
    "./build/bin/qg_4dvar.x ./qg3Dvar/yamls/3dvar_mult_obs.yaml"
   ]
  },
  {
   "cell_type": "markdown",
   "id": "3f1ae73d-dc93-45a6-8a1d-b11332e1658b",
   "metadata": {
    "tags": []
   },
   "source": [
    "<br><br> You can see the results, after thinking about your expectations, via:"
   ]
  },
  {
   "cell_type": "code",
   "execution_count": null,
   "id": "b6c39765-e86c-45ef-81e4-b9d91cfac17a",
   "metadata": {
    "tags": []
   },
   "outputs": [],
   "source": [
    "cd /home/jedi/EDU/plots_scripts\n",
    "python ./plot.py qg fields \\\n",
    "        /home/jedi/EDU/qg3Dvar/output/exp_mult_obs/da/3dvar_mult_obs.an.2009-12-31T00\\:00\\:00Z.nc \\\n",
    "        /home/jedi/EDU/qg3Dvar/output/exp_mult_obs/bg/bkgd.an.2009-12-31T00\\:00\\:00Z.nc \\\n",
    "        --plotwind --output /home/jedi/EDU/qg3Dvar/output/exp_mult_obs/plots/3dvar_mult_obs_increment --title \"analysis increment\""
   ]
  },
  {
   "cell_type": "markdown",
   "id": "763c98cd-ddd9-46b3-a16d-47fe24f35b70",
   "metadata": {
    "tags": []
   },
   "source": [
    "A few questions to get you going:\n",
    "- Can you identify the positions of the observations? If not, why is that so difficult?\n",
    "- Do you expect the increments to be larger or smaller, or similar to the default experiment? Why?\n",
    "\n",
    "You can also look at the analysis error via:"
   ]
  },
  {
   "cell_type": "code",
   "execution_count": null,
   "id": "e68d372f-e269-46ee-8b02-568e6feaec64",
   "metadata": {
    "tags": []
   },
   "outputs": [],
   "source": [
    "cd /home/jedi/EDU/plots_scripts\n",
    "python ./plot.py qg fields \\\n",
    "        /home/jedi/EDU/qg3Dvar/output/exp_mult_obs/da/3dvar_mult_obs.an.2009-12-31T00\\:00\\:00Z.nc \\\n",
    "        /home/jedi/EDU/qg3Dvar/output/truth/truth.fc.2009-12-15T00\\:00\\:00Z.P16D.nc \\\n",
    "        --output /home/jedi/EDU/qg3Dvar/output/exp_mult_obs/plots/3dvar_mult_obs_analysis_error --title \"analysis error\" "
   ]
  },
  {
   "cell_type": "markdown",
   "id": "bb53e2dc-f5fc-4be7-bdcd-112ba1250a4a",
   "metadata": {
    "tags": []
   },
   "source": [
    "- Is the analysis error indeed smaller than the background error?\n",
    "- In every grid point? Or on average?"
   ]
  },
  {
   "cell_type": "markdown",
   "id": "78f3f57d-6ee6-41f0-a7c7-c8960940f737",
   "metadata": {
    "tags": []
   },
   "source": [
    "On the last question, there is an interesting piece of theory in Kalman filtering that carries over directly to a 3DVar if the observation operator $H$ is linear. From the Kalman filter equations at the beginning of this 3DVar exercise we can derive an update equation for the model covariance matrix, as:\n",
    "<center> $P = (I-KH)B$ </center>\n",
    "\n",
    "By writing out that Kalman gain we find:\n",
    "<center> $P = B - BH^T(HBH^T + R)^{-1} HB \\;\\;\\;\\;\\;$ so that $ \\;\\;\\;\\;\\;Tr(P) = Tr(B) - Tr(BH^T(HBH^T + R)^{-1} HB)$  </center> \n",
    "\n",
    "All three matrices are symmetric positive semi definite, meaning that their eigenvalues are non-negative, and the trace is the sum of the eigenvalues. We thus see that $Tr(P) \\leq Tr(B)$. Now the trace of a covariance matrix is the sum of the diagonal elements, so the sum of the variances of all variables in the state vector. Hence, we find that the sum of the error variances of the analysis will be lower than that of the background error variances. This, then, shows that the average absolute value of the analysis errors is expected to be smaller than that of the background errors.\n",
    "\n",
    "This comes feature of the Kalman filter, and hence the 3DVar for linear observation operators, can be traced back to its derivation: the Kalman filter can be derived as the minimum variance estimator for linear problems.\n",
    "\n",
    "This experiment should have\n",
    "\n",
    "- Further increased your skills in using and changing yaml files\n",
    "- Given you a even better understanding of the covariances 3DVar (and in data assimilation in general), leading to an almost full understanding of a 3DVar."
   ]
  },
  {
   "cell_type": "code",
   "execution_count": null,
   "id": "5f210e36-e13b-47a7-be8f-90f83dac7b6f",
   "metadata": {},
   "outputs": [],
   "source": []
  },
  {
   "cell_type": "code",
   "execution_count": null,
   "id": "b57c145b-807a-4a91-86f5-5da59782d048",
   "metadata": {},
   "outputs": [],
   "source": []
  }
 ],
 "metadata": {
  "kernelspec": {
   "display_name": "Bash",
   "language": "bash",
   "name": "bash"
  },
  "language_info": {
   "codemirror_mode": "shell",
   "file_extension": ".sh",
   "mimetype": "text/x-sh",
   "name": "bash"
  }
 },
 "nbformat": 4,
 "nbformat_minor": 5
}
