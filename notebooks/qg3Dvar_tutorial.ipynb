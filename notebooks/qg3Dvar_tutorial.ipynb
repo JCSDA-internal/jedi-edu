{
 "cells": [
  {
   "cell_type": "markdown",
   "id": "ddaf2bd5-cadd-40df-a47a-9c136ebc8dce",
   "metadata": {},
   "source": [
    "Welcome!\n",
    "--------"
   ]
  },
  {
   "cell_type": "code",
   "execution_count": null,
   "id": "ff2bb2d1-74bc-49d9-a840-0de57fb6d85c",
   "metadata": {},
   "outputs": [],
   "source": []
  }
 ],
 "metadata": {
  "kernelspec": {
   "display_name": "Python 3 (ipykernel)",
   "language": "python",
   "name": "python3"
  },
  "language_info": {
   "codemirror_mode": {
    "name": "ipython",
    "version": 3
   },
   "file_extension": ".py",
   "mimetype": "text/x-python",
   "name": "python",
   "nbconvert_exporter": "python",
   "pygments_lexer": "ipython3",
   "version": "3.8.5"
  }
 },
 "nbformat": 4,
 "nbformat_minor": 5
}
